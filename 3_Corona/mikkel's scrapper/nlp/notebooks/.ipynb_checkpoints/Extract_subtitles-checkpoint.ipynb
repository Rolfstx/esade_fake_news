{
 "cells": [
  {
   "cell_type": "code",
   "execution_count": 1,
   "metadata": {
    "colab": {},
    "colab_type": "code",
    "id": "aFtC2PHN-rW6"
   },
   "outputs": [
    {
     "name": "stdout",
     "output_type": "stream",
     "text": [
      "Collecting youtube_transcript_api\n",
      "  Downloading https://files.pythonhosted.org/packages/21/81/c4ae5534b113f4938b482f360babbbe6fda550441a4af8e1007dba518586/youtube_transcript_api-0.3.1-py3-none-any.whl\n",
      "Requirement already satisfied: requests in c:\\programdata\\anaconda3\\lib\\site-packages (from youtube_transcript_api) (2.22.0)\n",
      "Requirement already satisfied: idna<2.9,>=2.5 in c:\\programdata\\anaconda3\\lib\\site-packages (from requests->youtube_transcript_api) (2.8)\n",
      "Requirement already satisfied: chardet<3.1.0,>=3.0.2 in c:\\programdata\\anaconda3\\lib\\site-packages (from requests->youtube_transcript_api) (3.0.4)\n",
      "Requirement already satisfied: certifi>=2017.4.17 in c:\\programdata\\anaconda3\\lib\\site-packages (from requests->youtube_transcript_api) (2019.6.16)\n",
      "Requirement already satisfied: urllib3!=1.25.0,!=1.25.1,<1.26,>=1.21.1 in c:\\programdata\\anaconda3\\lib\\site-packages (from requests->youtube_transcript_api) (1.24.2)\n",
      "Installing collected packages: youtube-transcript-api\n",
      "Successfully installed youtube-transcript-api-0.3.1\n",
      "Note: you may need to restart the kernel to use updated packages.\n"
     ]
    }
   ],
   "source": [
    "%pip install youtube_transcript_api"
   ]
  },
  {
   "cell_type": "code",
   "execution_count": 6,
   "metadata": {
    "colab": {
     "base_uri": "https://localhost:8080/",
     "height": 122
    },
    "colab_type": "code",
    "executionInfo": {
     "elapsed": 39782,
     "status": "ok",
     "timestamp": 1591989790220,
     "user": {
      "displayName": "Rolf Stirnimann",
      "photoUrl": "",
      "userId": "14933580794895575475"
     },
     "user_tz": -120
    },
    "id": "GA36Kd_O-3z7",
    "outputId": "f55dc4fc-eaf7-4693-f5e9-f1baf0bdf558"
   },
   "outputs": [
    {
     "name": "stdout",
     "output_type": "stream",
     "text": [
      "Go to this URL in a browser: https://accounts.google.com/o/oauth2/auth?client_id=947318989803-6bn6qk8qdgf4n4g3pfee6491hc0brc4i.apps.googleusercontent.com&redirect_uri=urn%3aietf%3awg%3aoauth%3a2.0%3aoob&response_type=code&scope=email%20https%3a%2f%2fwww.googleapis.com%2fauth%2fdocs.test%20https%3a%2f%2fwww.googleapis.com%2fauth%2fdrive%20https%3a%2f%2fwww.googleapis.com%2fauth%2fdrive.photos.readonly%20https%3a%2f%2fwww.googleapis.com%2fauth%2fpeopleapi.readonly\n",
      "\n",
      "Enter your authorization code:\n",
      "··········\n",
      "Mounted at /content/gdrive\n"
     ]
    }
   ],
   "source": [
    "from google.colab import drive\n",
    "drive.mount('/content/gdrive')"
   ]
  },
  {
   "cell_type": "code",
   "execution_count": 7,
   "metadata": {
    "colab": {
     "base_uri": "https://localhost:8080/",
     "height": 85
    },
    "colab_type": "code",
    "executionInfo": {
     "elapsed": 1814,
     "status": "ok",
     "timestamp": 1591989807751,
     "user": {
      "displayName": "Rolf Stirnimann",
      "photoUrl": "",
      "userId": "14933580794895575475"
     },
     "user_tz": -120
    },
    "id": "5OZBQ2GD_JKc",
    "outputId": "48aea90e-931f-4d63-b50b-d05a84a316fb"
   },
   "outputs": [
    {
     "name": "stdout",
     "output_type": "stream",
     "text": [
      "/content/gdrive/My Drive/Colab Notebooks\n",
      "20200504-193926_joe_biden_nlp.csv  model_language.ipynb  nlp_EDA_v2.ipynb\n",
      "Extract_subtitles.ipynb\t\t   models\t\t nlp_export.pkl\n",
      "Language_model.ipynb\t\t   nlp_EDA.ipynb\n"
     ]
    }
   ],
   "source": [
    "%cd \"gdrive/My Drive/Colab Notebooks\"\n",
    "!ls"
   ]
  },
  {
   "cell_type": "code",
   "execution_count": 2,
   "metadata": {
    "colab": {},
    "colab_type": "code",
    "id": "-Yd5L-3b-ffc"
   },
   "outputs": [],
   "source": [
    "import pandas as pd\n",
    "import numpy as np\n",
    "from youtube_transcript_api import YouTubeTranscriptApi\n",
    "from tqdm import tqdm"
   ]
  },
  {
   "cell_type": "code",
   "execution_count": 9,
   "metadata": {
    "colab": {
     "base_uri": "https://localhost:8080/",
     "height": 204
    },
    "colab_type": "code",
    "executionInfo": {
     "elapsed": 862,
     "status": "ok",
     "timestamp": 1591989810492,
     "user": {
      "displayName": "Rolf Stirnimann",
      "photoUrl": "",
      "userId": "14933580794895575475"
     },
     "user_tz": -120
    },
    "id": "53AFr164-ffi",
    "outputId": "0d03c492-e433-412c-c38b-18b09449b841"
   },
   "outputs": [
    {
     "data": {
      "text/html": [
       "<div>\n",
       "<style scoped>\n",
       "    .dataframe tbody tr th:only-of-type {\n",
       "        vertical-align: middle;\n",
       "    }\n",
       "\n",
       "    .dataframe tbody tr th {\n",
       "        vertical-align: top;\n",
       "    }\n",
       "\n",
       "    .dataframe thead th {\n",
       "        text-align: right;\n",
       "    }\n",
       "</style>\n",
       "<table border=\"1\" class=\"dataframe\">\n",
       "  <thead>\n",
       "    <tr style=\"text-align: right;\">\n",
       "      <th></th>\n",
       "      <th>Bias_num</th>\n",
       "      <th>title</th>\n",
       "      <th>description</th>\n",
       "      <th>channel</th>\n",
       "      <th>id</th>\n",
       "    </tr>\n",
       "  </thead>\n",
       "  <tbody>\n",
       "    <tr>\n",
       "      <th>1</th>\n",
       "      <td>0</td>\n",
       "      <td>Elon Musk says Australia’s energy emergency is...</td>\n",
       "      <td>It’s been a miserable few weeks for Malcolm Tu...</td>\n",
       "      <td>60 Minutes Australia</td>\n",
       "      <td>w7BMaG3zyVo</td>\n",
       "    </tr>\n",
       "    <tr>\n",
       "      <th>2</th>\n",
       "      <td>0</td>\n",
       "      <td>Real life Catch Me If You Can con artist revea...</td>\n",
       "      <td>Catch Me If You Can stars Leonardo DiCaprio as...</td>\n",
       "      <td>60 Minutes Australia</td>\n",
       "      <td>3UmcxQto7UU</td>\n",
       "    </tr>\n",
       "    <tr>\n",
       "      <th>3</th>\n",
       "      <td>0</td>\n",
       "      <td>Reporter granted rare access inside secretive ...</td>\n",
       "      <td>After months of negotiations, Nine News corres...</td>\n",
       "      <td>60 Minutes Australia</td>\n",
       "      <td>5iGClYMpcpE</td>\n",
       "    </tr>\n",
       "    <tr>\n",
       "      <th>4</th>\n",
       "      <td>0</td>\n",
       "      <td>The Father's Day Massacre (2014) - Worst bikie...</td>\n",
       "      <td>To this day, the notorious Milperra Massacre r...</td>\n",
       "      <td>60 Minutes Australia</td>\n",
       "      <td>h6G38Lbrn9Q</td>\n",
       "    </tr>\n",
       "    <tr>\n",
       "      <th>5</th>\n",
       "      <td>0</td>\n",
       "      <td>WORLD EXCLUSIVE: Harvey Weinstein and his army...</td>\n",
       "      <td>In a major 60 MINUTES investigation, Liam Bart...</td>\n",
       "      <td>60 Minutes Australia</td>\n",
       "      <td>xSF-Q2zvZzI</td>\n",
       "    </tr>\n",
       "  </tbody>\n",
       "</table>\n",
       "</div>"
      ],
      "text/plain": [
       "   Bias_num                                              title  \\\n",
       "1         0  Elon Musk says Australia’s energy emergency is...   \n",
       "2         0  Real life Catch Me If You Can con artist revea...   \n",
       "3         0  Reporter granted rare access inside secretive ...   \n",
       "4         0  The Father's Day Massacre (2014) - Worst bikie...   \n",
       "5         0  WORLD EXCLUSIVE: Harvey Weinstein and his army...   \n",
       "\n",
       "                                         description               channel  \\\n",
       "1  It’s been a miserable few weeks for Malcolm Tu...  60 Minutes Australia   \n",
       "2  Catch Me If You Can stars Leonardo DiCaprio as...  60 Minutes Australia   \n",
       "3  After months of negotiations, Nine News corres...  60 Minutes Australia   \n",
       "4  To this day, the notorious Milperra Massacre r...  60 Minutes Australia   \n",
       "5  In a major 60 MINUTES investigation, Liam Bart...  60 Minutes Australia   \n",
       "\n",
       "            id  \n",
       "1  w7BMaG3zyVo  \n",
       "2  3UmcxQto7UU  \n",
       "3  5iGClYMpcpE  \n",
       "4  h6G38Lbrn9Q  \n",
       "5  xSF-Q2zvZzI  "
      ]
     },
     "execution_count": 9,
     "metadata": {},
     "output_type": "execute_result"
    }
   ],
   "source": [
    "df = pd.read_csv('C:/Users/asf/Documents/GitHub/esade_fake_news/3_Corona\\mikkel's scrapper\\nlp', index_col=0)\n",
    "df.head()"
   ]
  },
  {
   "cell_type": "code",
   "execution_count": 10,
   "metadata": {
    "colab": {
     "base_uri": "https://localhost:8080/",
     "height": 204
    },
    "colab_type": "code",
    "executionInfo": {
     "elapsed": 402904,
     "status": "ok",
     "timestamp": 1591990216291,
     "user": {
      "displayName": "Rolf Stirnimann",
      "photoUrl": "",
      "userId": "14933580794895575475"
     },
     "user_tz": -120
    },
    "id": "xRA0-t5l-ffm",
    "outputId": "bb87540c-e1cf-447b-d323-666d3deea9d6"
   },
   "outputs": [
    {
     "name": "stderr",
     "output_type": "stream",
     "text": [
      " 87%|████████▋ | 737/849 [16:39<02:29,  1.33s/it]\n"
     ]
    },
    {
     "data": {
      "text/html": [
       "<div>\n",
       "<style scoped>\n",
       "    .dataframe tbody tr th:only-of-type {\n",
       "        vertical-align: middle;\n",
       "    }\n",
       "\n",
       "    .dataframe tbody tr th {\n",
       "        vertical-align: top;\n",
       "    }\n",
       "\n",
       "    .dataframe thead th {\n",
       "        text-align: right;\n",
       "    }\n",
       "</style>\n",
       "<table border=\"1\" class=\"dataframe\">\n",
       "  <thead>\n",
       "    <tr style=\"text-align: right;\">\n",
       "      <th></th>\n",
       "      <th>video_id</th>\n",
       "      <th>subtitles</th>\n",
       "    </tr>\n",
       "  </thead>\n",
       "  <tbody>\n",
       "    <tr>\n",
       "      <th>0</th>\n",
       "      <td>w7BMaG3zyVo</td>\n",
       "      <td>[who hasn't been shocked by a recent electrici...</td>\n",
       "    </tr>\n",
       "    <tr>\n",
       "      <th>1</th>\n",
       "      <td>3UmcxQto7UU</td>\n",
       "      <td>[you're one of the greatest con men of all tim...</td>\n",
       "    </tr>\n",
       "    <tr>\n",
       "      <th>2</th>\n",
       "      <td>5iGClYMpcpE</td>\n",
       "      <td>[if you thought the insults hold between North...</td>\n",
       "    </tr>\n",
       "    <tr>\n",
       "      <th>3</th>\n",
       "      <td>h6G38Lbrn9Q</td>\n",
       "      <td>[bravery courage defiance heartbreak they're n...</td>\n",
       "    </tr>\n",
       "    <tr>\n",
       "      <th>4</th>\n",
       "      <td>xSF-Q2zvZzI</td>\n",
       "      <td>NaN</td>\n",
       "    </tr>\n",
       "  </tbody>\n",
       "</table>\n",
       "</div>"
      ],
      "text/plain": [
       "      video_id                                          subtitles\n",
       "0  w7BMaG3zyVo  [who hasn't been shocked by a recent electrici...\n",
       "1  3UmcxQto7UU  [you're one of the greatest con men of all tim...\n",
       "2  5iGClYMpcpE  [if you thought the insults hold between North...\n",
       "3  h6G38Lbrn9Q  [bravery courage defiance heartbreak they're n...\n",
       "4  xSF-Q2zvZzI                                                NaN"
      ]
     },
     "execution_count": 10,
     "metadata": {},
     "output_type": "execute_result"
    }
   ],
   "source": [
    "tttt = []\n",
    "\n",
    "with tqdm(total=len(df['id'])) as pbar:  \n",
    "    for idx in df['id']:\n",
    "        try:\n",
    "            t = YouTubeTranscriptApi.get_transcript(idx)\n",
    "        except:\n",
    "            tttt.append([idx, np.nan])\n",
    "            continue\n",
    "        tt = [i[\"text\"] for i in t]\n",
    "        ttt = [' '.join(tt)]\n",
    "        tttt.append([idx, ttt])\n",
    "        pbar.update(1)\n",
    "\n",
    "df_sub = pd.DataFrame(tttt, columns=['video_id', 'subtitles'])\n",
    "df_sub.head()"
   ]
  },
  {
   "cell_type": "code",
   "execution_count": 11,
   "metadata": {
    "colab": {
     "base_uri": "https://localhost:8080/",
     "height": 68
    },
    "colab_type": "code",
    "executionInfo": {
     "elapsed": 406,
     "status": "ok",
     "timestamp": 1591991305895,
     "user": {
      "displayName": "Rolf Stirnimann",
      "photoUrl": "",
      "userId": "14933580794895575475"
     },
     "user_tz": -120
    },
    "id": "-bhQujlw-ffp",
    "outputId": "54e8f1a0-49f5-4ce2-bdaa-521f4239c4ef"
   },
   "outputs": [
    {
     "data": {
      "text/plain": [
       "video_id       0\n",
       "subtitles    112\n",
       "dtype: int64"
      ]
     },
     "execution_count": 11,
     "metadata": {},
     "output_type": "execute_result"
    }
   ],
   "source": [
    "df_sub.isna().sum()"
   ]
  },
  {
   "cell_type": "code",
   "execution_count": 16,
   "metadata": {},
   "outputs": [
    {
     "data": {
      "text/html": [
       "<div>\n",
       "<style scoped>\n",
       "    .dataframe tbody tr th:only-of-type {\n",
       "        vertical-align: middle;\n",
       "    }\n",
       "\n",
       "    .dataframe tbody tr th {\n",
       "        vertical-align: top;\n",
       "    }\n",
       "\n",
       "    .dataframe thead th {\n",
       "        text-align: right;\n",
       "    }\n",
       "</style>\n",
       "<table border=\"1\" class=\"dataframe\">\n",
       "  <thead>\n",
       "    <tr style=\"text-align: right;\">\n",
       "      <th></th>\n",
       "      <th>video_id</th>\n",
       "      <th>subtitles</th>\n",
       "    </tr>\n",
       "  </thead>\n",
       "  <tbody>\n",
       "    <tr>\n",
       "      <th>4</th>\n",
       "      <td>xSF-Q2zvZzI</td>\n",
       "      <td>NaN</td>\n",
       "    </tr>\n",
       "    <tr>\n",
       "      <th>22</th>\n",
       "      <td>R2Zo8vHOgaM</td>\n",
       "      <td>NaN</td>\n",
       "    </tr>\n",
       "    <tr>\n",
       "      <th>24</th>\n",
       "      <td>w_Ma8oQLmSM</td>\n",
       "      <td>NaN</td>\n",
       "    </tr>\n",
       "    <tr>\n",
       "      <th>25</th>\n",
       "      <td>N77AXnJ8Bsw</td>\n",
       "      <td>NaN</td>\n",
       "    </tr>\n",
       "    <tr>\n",
       "      <th>26</th>\n",
       "      <td>a9a8Yrp-H5M</td>\n",
       "      <td>NaN</td>\n",
       "    </tr>\n",
       "    <tr>\n",
       "      <th>...</th>\n",
       "      <td>...</td>\n",
       "      <td>...</td>\n",
       "    </tr>\n",
       "    <tr>\n",
       "      <th>820</th>\n",
       "      <td>5u5uVPd1Yvc</td>\n",
       "      <td>NaN</td>\n",
       "    </tr>\n",
       "    <tr>\n",
       "      <th>822</th>\n",
       "      <td>c1Z01TmQoAo</td>\n",
       "      <td>NaN</td>\n",
       "    </tr>\n",
       "    <tr>\n",
       "      <th>829</th>\n",
       "      <td>dgSJC38yRn8</td>\n",
       "      <td>NaN</td>\n",
       "    </tr>\n",
       "    <tr>\n",
       "      <th>839</th>\n",
       "      <td>EN17r19LemI</td>\n",
       "      <td>NaN</td>\n",
       "    </tr>\n",
       "    <tr>\n",
       "      <th>840</th>\n",
       "      <td>6xrJy-1_qS4</td>\n",
       "      <td>NaN</td>\n",
       "    </tr>\n",
       "  </tbody>\n",
       "</table>\n",
       "<p>112 rows × 2 columns</p>\n",
       "</div>"
      ],
      "text/plain": [
       "        video_id subtitles\n",
       "4    xSF-Q2zvZzI       NaN\n",
       "22   R2Zo8vHOgaM       NaN\n",
       "24   w_Ma8oQLmSM       NaN\n",
       "25   N77AXnJ8Bsw       NaN\n",
       "26   a9a8Yrp-H5M       NaN\n",
       "..           ...       ...\n",
       "820  5u5uVPd1Yvc       NaN\n",
       "822  c1Z01TmQoAo       NaN\n",
       "829  dgSJC38yRn8       NaN\n",
       "839  EN17r19LemI       NaN\n",
       "840  6xrJy-1_qS4       NaN\n",
       "\n",
       "[112 rows x 2 columns]"
      ]
     },
     "execution_count": 16,
     "metadata": {},
     "output_type": "execute_result"
    }
   ],
   "source": [
    "df_sub[df_sub['subtitles'].isna()]"
   ]
  },
  {
   "cell_type": "code",
   "execution_count": 19,
   "metadata": {},
   "outputs": [],
   "source": [
    "df2 = df.merge(df_sub, left_on='id', right_on='video_id')"
   ]
  },
  {
   "cell_type": "code",
   "execution_count": 21,
   "metadata": {},
   "outputs": [
    {
     "data": {
      "text/html": [
       "<div>\n",
       "<style scoped>\n",
       "    .dataframe tbody tr th:only-of-type {\n",
       "        vertical-align: middle;\n",
       "    }\n",
       "\n",
       "    .dataframe tbody tr th {\n",
       "        vertical-align: top;\n",
       "    }\n",
       "\n",
       "    .dataframe thead th {\n",
       "        text-align: right;\n",
       "    }\n",
       "</style>\n",
       "<table border=\"1\" class=\"dataframe\">\n",
       "  <thead>\n",
       "    <tr style=\"text-align: right;\">\n",
       "      <th></th>\n",
       "      <th>Bias_num</th>\n",
       "      <th>title</th>\n",
       "      <th>description</th>\n",
       "      <th>channel</th>\n",
       "      <th>id</th>\n",
       "      <th>video_id</th>\n",
       "      <th>subtitles</th>\n",
       "    </tr>\n",
       "  </thead>\n",
       "  <tbody>\n",
       "    <tr>\n",
       "      <th>4</th>\n",
       "      <td>0</td>\n",
       "      <td>WORLD EXCLUSIVE: Harvey Weinstein and his army...</td>\n",
       "      <td>In a major 60 MINUTES investigation, Liam Bart...</td>\n",
       "      <td>60 Minutes Australia</td>\n",
       "      <td>xSF-Q2zvZzI</td>\n",
       "      <td>xSF-Q2zvZzI</td>\n",
       "      <td>NaN</td>\n",
       "    </tr>\n",
       "    <tr>\n",
       "      <th>22</th>\n",
       "      <td>0</td>\n",
       "      <td>Obama Farewell Speech FULL Event | ABC News</td>\n",
       "      <td>President Obama Farewell Address: Obama's fina...</td>\n",
       "      <td>ABC News</td>\n",
       "      <td>R2Zo8vHOgaM</td>\n",
       "      <td>R2Zo8vHOgaM</td>\n",
       "      <td>NaN</td>\n",
       "    </tr>\n",
       "    <tr>\n",
       "      <th>24</th>\n",
       "      <td>0</td>\n",
       "      <td>Watch the Latest News Headlines and Live Event...</td>\n",
       "      <td>#coronavirus #covid19 #news #LiveNews #Streami...</td>\n",
       "      <td>ABC News</td>\n",
       "      <td>w_Ma8oQLmSM</td>\n",
       "      <td>w_Ma8oQLmSM</td>\n",
       "      <td>NaN</td>\n",
       "    </tr>\n",
       "    <tr>\n",
       "      <th>25</th>\n",
       "      <td>0</td>\n",
       "      <td>Obama's Tribute to Joe Biden (Full Speech) | A...</td>\n",
       "      <td>President Obama surprised Vice President Joe B...</td>\n",
       "      <td>ABC News</td>\n",
       "      <td>N77AXnJ8Bsw</td>\n",
       "      <td>N77AXnJ8Bsw</td>\n",
       "      <td>NaN</td>\n",
       "    </tr>\n",
       "    <tr>\n",
       "      <th>26</th>\n",
       "      <td>0</td>\n",
       "      <td>Obama Awards Presidential Medal of Freedom FUL...</td>\n",
       "      <td>President Obama Awards the Presidential Medal ...</td>\n",
       "      <td>ABC News</td>\n",
       "      <td>a9a8Yrp-H5M</td>\n",
       "      <td>a9a8Yrp-H5M</td>\n",
       "      <td>NaN</td>\n",
       "    </tr>\n",
       "  </tbody>\n",
       "</table>\n",
       "</div>"
      ],
      "text/plain": [
       "    Bias_num                                              title  \\\n",
       "4          0  WORLD EXCLUSIVE: Harvey Weinstein and his army...   \n",
       "22         0        Obama Farewell Speech FULL Event | ABC News   \n",
       "24         0  Watch the Latest News Headlines and Live Event...   \n",
       "25         0  Obama's Tribute to Joe Biden (Full Speech) | A...   \n",
       "26         0  Obama Awards Presidential Medal of Freedom FUL...   \n",
       "\n",
       "                                          description               channel  \\\n",
       "4   In a major 60 MINUTES investigation, Liam Bart...  60 Minutes Australia   \n",
       "22  President Obama Farewell Address: Obama's fina...              ABC News   \n",
       "24  #coronavirus #covid19 #news #LiveNews #Streami...              ABC News   \n",
       "25  President Obama surprised Vice President Joe B...              ABC News   \n",
       "26  President Obama Awards the Presidential Medal ...              ABC News   \n",
       "\n",
       "             id     video_id subtitles  \n",
       "4   xSF-Q2zvZzI  xSF-Q2zvZzI       NaN  \n",
       "22  R2Zo8vHOgaM  R2Zo8vHOgaM       NaN  \n",
       "24  w_Ma8oQLmSM  w_Ma8oQLmSM       NaN  \n",
       "25  N77AXnJ8Bsw  N77AXnJ8Bsw       NaN  \n",
       "26  a9a8Yrp-H5M  a9a8Yrp-H5M       NaN  "
      ]
     },
     "execution_count": 21,
     "metadata": {},
     "output_type": "execute_result"
    }
   ],
   "source": [
    "#i checked a few nan subtitles and they don't have subtitles. \n",
    "df2[df2['subtitles'].isna()].head()"
   ]
  },
  {
   "cell_type": "code",
   "execution_count": 23,
   "metadata": {},
   "outputs": [],
   "source": [
    "df2.drop('video_id', inplace=True, axis=1)"
   ]
  },
  {
   "cell_type": "code",
   "execution_count": 24,
   "metadata": {},
   "outputs": [],
   "source": [
    "df2.to_csv(\"20200504-193926_joe_biden_nlp_subs.csv\")"
   ]
  },
  {
   "cell_type": "code",
   "execution_count": 25,
   "metadata": {},
   "outputs": [
    {
     "data": {
      "text/html": [
       "<div>\n",
       "<style scoped>\n",
       "    .dataframe tbody tr th:only-of-type {\n",
       "        vertical-align: middle;\n",
       "    }\n",
       "\n",
       "    .dataframe tbody tr th {\n",
       "        vertical-align: top;\n",
       "    }\n",
       "\n",
       "    .dataframe thead th {\n",
       "        text-align: right;\n",
       "    }\n",
       "</style>\n",
       "<table border=\"1\" class=\"dataframe\">\n",
       "  <thead>\n",
       "    <tr style=\"text-align: right;\">\n",
       "      <th></th>\n",
       "      <th>Bias_num</th>\n",
       "      <th>title</th>\n",
       "      <th>description</th>\n",
       "      <th>channel</th>\n",
       "      <th>id</th>\n",
       "      <th>subtitles</th>\n",
       "    </tr>\n",
       "  </thead>\n",
       "  <tbody>\n",
       "    <tr>\n",
       "      <th>0</th>\n",
       "      <td>0</td>\n",
       "      <td>Elon Musk says Australia’s energy emergency is...</td>\n",
       "      <td>It’s been a miserable few weeks for Malcolm Tu...</td>\n",
       "      <td>60 Minutes Australia</td>\n",
       "      <td>w7BMaG3zyVo</td>\n",
       "      <td>[who hasn't been shocked by a recent electrici...</td>\n",
       "    </tr>\n",
       "    <tr>\n",
       "      <th>1</th>\n",
       "      <td>0</td>\n",
       "      <td>Real life Catch Me If You Can con artist revea...</td>\n",
       "      <td>Catch Me If You Can stars Leonardo DiCaprio as...</td>\n",
       "      <td>60 Minutes Australia</td>\n",
       "      <td>3UmcxQto7UU</td>\n",
       "      <td>[you're one of the greatest con men of all tim...</td>\n",
       "    </tr>\n",
       "    <tr>\n",
       "      <th>2</th>\n",
       "      <td>0</td>\n",
       "      <td>Reporter granted rare access inside secretive ...</td>\n",
       "      <td>After months of negotiations, Nine News corres...</td>\n",
       "      <td>60 Minutes Australia</td>\n",
       "      <td>5iGClYMpcpE</td>\n",
       "      <td>[if you thought the insults hold between North...</td>\n",
       "    </tr>\n",
       "    <tr>\n",
       "      <th>3</th>\n",
       "      <td>0</td>\n",
       "      <td>The Father's Day Massacre (2014) - Worst bikie...</td>\n",
       "      <td>To this day, the notorious Milperra Massacre r...</td>\n",
       "      <td>60 Minutes Australia</td>\n",
       "      <td>h6G38Lbrn9Q</td>\n",
       "      <td>[bravery courage defiance heartbreak they're n...</td>\n",
       "    </tr>\n",
       "    <tr>\n",
       "      <th>4</th>\n",
       "      <td>0</td>\n",
       "      <td>WORLD EXCLUSIVE: Harvey Weinstein and his army...</td>\n",
       "      <td>In a major 60 MINUTES investigation, Liam Bart...</td>\n",
       "      <td>60 Minutes Australia</td>\n",
       "      <td>xSF-Q2zvZzI</td>\n",
       "      <td>NaN</td>\n",
       "    </tr>\n",
       "    <tr>\n",
       "      <th>5</th>\n",
       "      <td>0</td>\n",
       "      <td>Exposing Jeffrey Epstein's international sex t...</td>\n",
       "      <td>The Jeffrey Epstein scandal – Tara Brown repor...</td>\n",
       "      <td>60 Minutes Australia</td>\n",
       "      <td>VQOOxOl9l80</td>\n",
       "      <td>[Jeffrey Epstein was a billionaire New York bu...</td>\n",
       "    </tr>\n",
       "    <tr>\n",
       "      <th>6</th>\n",
       "      <td>0</td>\n",
       "      <td>Ricky Gervais' funniest ever interview | 60 Mi...</td>\n",
       "      <td>In all his years interviewing so-called “funny...</td>\n",
       "      <td>60 Minutes Australia</td>\n",
       "      <td>Kfgw79mfgIg</td>\n",
       "      <td>[in all my years of interviewing so-called fun...</td>\n",
       "    </tr>\n",
       "    <tr>\n",
       "      <th>7</th>\n",
       "      <td>0</td>\n",
       "      <td>MH370: The Situation Room - What really happen...</td>\n",
       "      <td>What happened to MH370? On a special edition o...</td>\n",
       "      <td>60 Minutes Australia</td>\n",
       "      <td>Cm1j1fpldkc</td>\n",
       "      <td>[it is the greatest aviation mystery of all ti...</td>\n",
       "    </tr>\n",
       "    <tr>\n",
       "      <th>8</th>\n",
       "      <td>0</td>\n",
       "      <td>WORLD EXCLUSIVE: Chinese spy spills secrets to...</td>\n",
       "      <td>A Chinese spy defects to Australia. His shocki...</td>\n",
       "      <td>60 Minutes Australia</td>\n",
       "      <td>zdR-I35Ladk</td>\n",
       "      <td>[it's probably a safe bet that the all-powerfu...</td>\n",
       "    </tr>\n",
       "    <tr>\n",
       "      <th>9</th>\n",
       "      <td>0</td>\n",
       "      <td>JFK (2013) - Who shot American President John ...</td>\n",
       "      <td>Presidential Bodyguard, Clint Hill still can't...</td>\n",
       "      <td>60 Minutes Australia</td>\n",
       "      <td>stJ0TvOdH4Y</td>\n",
       "      <td>[few historical moments of the last century or...</td>\n",
       "    </tr>\n",
       "  </tbody>\n",
       "</table>\n",
       "</div>"
      ],
      "text/plain": [
       "   Bias_num                                              title  \\\n",
       "0         0  Elon Musk says Australia’s energy emergency is...   \n",
       "1         0  Real life Catch Me If You Can con artist revea...   \n",
       "2         0  Reporter granted rare access inside secretive ...   \n",
       "3         0  The Father's Day Massacre (2014) - Worst bikie...   \n",
       "4         0  WORLD EXCLUSIVE: Harvey Weinstein and his army...   \n",
       "5         0  Exposing Jeffrey Epstein's international sex t...   \n",
       "6         0  Ricky Gervais' funniest ever interview | 60 Mi...   \n",
       "7         0  MH370: The Situation Room - What really happen...   \n",
       "8         0  WORLD EXCLUSIVE: Chinese spy spills secrets to...   \n",
       "9         0  JFK (2013) - Who shot American President John ...   \n",
       "\n",
       "                                         description               channel  \\\n",
       "0  It’s been a miserable few weeks for Malcolm Tu...  60 Minutes Australia   \n",
       "1  Catch Me If You Can stars Leonardo DiCaprio as...  60 Minutes Australia   \n",
       "2  After months of negotiations, Nine News corres...  60 Minutes Australia   \n",
       "3  To this day, the notorious Milperra Massacre r...  60 Minutes Australia   \n",
       "4  In a major 60 MINUTES investigation, Liam Bart...  60 Minutes Australia   \n",
       "5  The Jeffrey Epstein scandal – Tara Brown repor...  60 Minutes Australia   \n",
       "6  In all his years interviewing so-called “funny...  60 Minutes Australia   \n",
       "7  What happened to MH370? On a special edition o...  60 Minutes Australia   \n",
       "8  A Chinese spy defects to Australia. His shocki...  60 Minutes Australia   \n",
       "9  Presidential Bodyguard, Clint Hill still can't...  60 Minutes Australia   \n",
       "\n",
       "            id                                          subtitles  \n",
       "0  w7BMaG3zyVo  [who hasn't been shocked by a recent electrici...  \n",
       "1  3UmcxQto7UU  [you're one of the greatest con men of all tim...  \n",
       "2  5iGClYMpcpE  [if you thought the insults hold between North...  \n",
       "3  h6G38Lbrn9Q  [bravery courage defiance heartbreak they're n...  \n",
       "4  xSF-Q2zvZzI                                                NaN  \n",
       "5  VQOOxOl9l80  [Jeffrey Epstein was a billionaire New York bu...  \n",
       "6  Kfgw79mfgIg  [in all my years of interviewing so-called fun...  \n",
       "7  Cm1j1fpldkc  [it is the greatest aviation mystery of all ti...  \n",
       "8  zdR-I35Ladk  [it's probably a safe bet that the all-powerfu...  \n",
       "9  stJ0TvOdH4Y  [few historical moments of the last century or...  "
      ]
     },
     "execution_count": 25,
     "metadata": {},
     "output_type": "execute_result"
    }
   ],
   "source": [
    "df2.head(10)"
   ]
  },
  {
   "cell_type": "code",
   "execution_count": null,
   "metadata": {},
   "outputs": [],
   "source": []
  }
 ],
 "metadata": {
  "colab": {
   "collapsed_sections": [],
   "name": "Extract_subtitles.ipynb",
   "provenance": []
  },
  "kernelspec": {
   "display_name": "Python 3",
   "language": "python",
   "name": "python3"
  },
  "language_info": {
   "codemirror_mode": {
    "name": "ipython",
    "version": 3
   },
   "file_extension": ".py",
   "mimetype": "text/x-python",
   "name": "python",
   "nbconvert_exporter": "python",
   "pygments_lexer": "ipython3",
   "version": "3.7.3"
  }
 },
 "nbformat": 4,
 "nbformat_minor": 1
}
