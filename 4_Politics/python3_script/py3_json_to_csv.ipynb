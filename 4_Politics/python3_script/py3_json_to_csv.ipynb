{
 "cells": [
  {
   "cell_type": "code",
   "execution_count": 1,
   "metadata": {},
   "outputs": [],
   "source": [
    "import json\n",
    "import pandas as pd\n",
    "\n",
    "with open('data/videos/20200504-193926_joe_biden.json') as json_file:\n",
    "    data = json.load(json_file)"
   ]
  },
  {
   "cell_type": "code",
   "execution_count": 2,
   "metadata": {},
   "outputs": [],
   "source": [
    "ids = [list(d.keys())[0] for d in data]\n",
    "flat_data = []\n",
    "for unique_id in ids:\n",
    "    flat = dict(data[ids.index(unique_id)][unique_id])\n",
    "    flat['id'] = unique_id\n",
    "    flat['recommendations'] = len(flat['recommendations'])\n",
    "    flat_data.append(flat)\n",
    "flat_data = pd.DataFrame(flat_data)"
   ]
  },
  {
   "cell_type": "code",
   "execution_count": 4,
   "metadata": {},
   "outputs": [],
   "source": [
    "top25 = flat_data[['title','id','channel','genre','key']].groupby(['title','channel','genre','id']).count().sort_values(by='key',ascending=False).head(25)"
   ]
  },
  {
   "cell_type": "code",
   "execution_count": 47,
   "metadata": {},
   "outputs": [],
   "source": [
    "# export Data.Frame\n",
    "top25.to_csv(r'./python3_script/data/top25/20200504-193926_joe_biden_top25.csv', header=True)"
   ]
  },
  {
   "cell_type": "code",
   "execution_count": 5,
   "metadata": {},
   "outputs": [
    {
     "data": {
      "text/html": [
       "<div>\n",
       "<style scoped>\n",
       "    .dataframe tbody tr th:only-of-type {\n",
       "        vertical-align: middle;\n",
       "    }\n",
       "\n",
       "    .dataframe tbody tr th {\n",
       "        vertical-align: top;\n",
       "    }\n",
       "\n",
       "    .dataframe thead th {\n",
       "        text-align: right;\n",
       "    }\n",
       "</style>\n",
       "<table border=\"1\" class=\"dataframe\">\n",
       "  <thead>\n",
       "    <tr style=\"text-align: right;\">\n",
       "      <th></th>\n",
       "      <th></th>\n",
       "      <th></th>\n",
       "      <th></th>\n",
       "      <th>key</th>\n",
       "    </tr>\n",
       "    <tr>\n",
       "      <th>title</th>\n",
       "      <th>channel</th>\n",
       "      <th>genre</th>\n",
       "      <th>id</th>\n",
       "      <th></th>\n",
       "    </tr>\n",
       "  </thead>\n",
       "  <tbody>\n",
       "    <tr>\n",
       "      <th>WATCH LIVE: New York Gov. Cuomo holds a briefing on the coronavirus outbreak - 5/4/2020</th>\n",
       "      <th>CNBC Television</th>\n",
       "      <th>News &amp; Politics</th>\n",
       "      <th>NwEldF5Me9Q</th>\n",
       "      <td>856</td>\n",
       "    </tr>\n",
       "    <tr>\n",
       "      <th>Live: NY Gov Cuomo holds coronavirus press conferece</th>\n",
       "      <th>Fox News</th>\n",
       "      <th>News &amp; Politics</th>\n",
       "      <th>8RNNCmY-SXw</th>\n",
       "      <td>751</td>\n",
       "    </tr>\n",
       "    <tr>\n",
       "      <th>Live: New York Gov. Andrew Cuomo Holds Coronavirus Briefing | NBC News</th>\n",
       "      <th>NBC News</th>\n",
       "      <th>News &amp; Politics</th>\n",
       "      <th>9Y861dM3V4w</th>\n",
       "      <td>582</td>\n",
       "    </tr>\n",
       "    <tr>\n",
       "      <th>New York Governor Andrew Cuomo gives COVID-19 daily briefing</th>\n",
       "      <th>The Sun</th>\n",
       "      <th>News &amp; Politics</th>\n",
       "      <th>DkglG2j8Ajs</th>\n",
       "      <td>527</td>\n",
       "    </tr>\n",
       "    <tr>\n",
       "      <th>Live: Matt Hancock gives UK government's daily coronavirus briefing - May 4 | ITV News</th>\n",
       "      <th>ITV News</th>\n",
       "      <th>News &amp; Politics</th>\n",
       "      <th>qEpaNXQq_HY</th>\n",
       "      <td>497</td>\n",
       "    </tr>\n",
       "    <tr>\n",
       "      <th>America Together: Returning to Work Town Hall with President Trump | Part 2</th>\n",
       "      <th>Fox News</th>\n",
       "      <th>News &amp; Politics</th>\n",
       "      <th>6HDUYiyF_DQ</th>\n",
       "      <td>439</td>\n",
       "    </tr>\n",
       "    <tr>\n",
       "      <th>Sanders: Trump has been 'very upfront and vocal,' shows he's a leader</th>\n",
       "      <th>Fox News</th>\n",
       "      <th>News &amp; Politics</th>\n",
       "      <th>48sjNz8A9dM</th>\n",
       "      <td>415</td>\n",
       "    </tr>\n",
       "    <tr>\n",
       "      <th>America Together: Returning to Work Town Hall with President Trump | Part 1</th>\n",
       "      <th>Fox News</th>\n",
       "      <th>News &amp; Politics</th>\n",
       "      <th>Lg3hFWlOIuU</th>\n",
       "      <td>403</td>\n",
       "    </tr>\n",
       "    <tr>\n",
       "      <th>Watch Live: New York Governor Andrew Cuomo Delivers Briefing On COVID-19 | TIME</th>\n",
       "      <th>TIME</th>\n",
       "      <th>News &amp; Politics</th>\n",
       "      <th>QN3IMJioNYY</th>\n",
       "      <td>376</td>\n",
       "    </tr>\n",
       "    <tr>\n",
       "      <th>Coronavirus VI: Testing: Last Week Tonight with John Oliver (HBO)</th>\n",
       "      <th>LastWeekTonight</th>\n",
       "      <th>Entertainment</th>\n",
       "      <th>7rl4c-jr7g0</th>\n",
       "      <td>375</td>\n",
       "    </tr>\n",
       "    <tr>\n",
       "      <th>Coronavirus outbreak: Prime Minister Trudeau addresses Canadians on COVID-19 pandemic | LIVE</th>\n",
       "      <th>Global News</th>\n",
       "      <th>News &amp; Politics</th>\n",
       "      <th>wpxSqkJIUBE</th>\n",
       "      <td>370</td>\n",
       "    </tr>\n",
       "    <tr>\n",
       "      <th>Gowdy, Jordan react to FBI notes for Michael Flynn investigation</th>\n",
       "      <th>Fox News</th>\n",
       "      <th>News &amp; Politics</th>\n",
       "      <th>LWcRp35uK8s</th>\n",
       "      <td>360</td>\n",
       "    </tr>\n",
       "    <tr>\n",
       "      <th>Trump's transparency on display at Fox News town hall</th>\n",
       "      <th>Fox News</th>\n",
       "      <th>News &amp; Politics</th>\n",
       "      <th>mC_jIl6ntM8</th>\n",
       "      <td>347</td>\n",
       "    </tr>\n",
       "    <tr>\n",
       "      <th>Joe Reacts To Trump Tweet | Morning Joe | MSNBC</th>\n",
       "      <th>MSNBC</th>\n",
       "      <th>News &amp; Politics</th>\n",
       "      <th>BFP3QuoCE40</th>\n",
       "      <td>332</td>\n",
       "    </tr>\n",
       "    <tr>\n",
       "      <th>Biden Accuser 'Not Sure' What Complaint She Claims Was Filed With Senate Says | Morning Joe | MSNBC</th>\n",
       "      <th>MSNBC</th>\n",
       "      <th>News &amp; Politics</th>\n",
       "      <th>WEZ66foC5OQ</th>\n",
       "      <td>330</td>\n",
       "    </tr>\n",
       "    <tr>\n",
       "      <th>Gov. Andrew Cuomo provides daily coronavirus update: May 4 | USA TODAY</th>\n",
       "      <th>USA TODAY</th>\n",
       "      <th>News &amp; Politics</th>\n",
       "      <th>1crA2H0mfYc</th>\n",
       "      <td>306</td>\n",
       "    </tr>\n",
       "    <tr>\n",
       "      <th>LIVE: New York Governor Cuomo delivers update on coronavirus</th>\n",
       "      <th>Yahoo Finance</th>\n",
       "      <th>News &amp; Politics</th>\n",
       "      <th>dgSJC38yRn8</th>\n",
       "      <td>286</td>\n",
       "    </tr>\n",
       "    <tr>\n",
       "      <th>Gutfeld: As we prepare to get back to work, let's confront the obvious obstacles</th>\n",
       "      <th>Fox News</th>\n",
       "      <th>News &amp; Politics</th>\n",
       "      <th>jy4GiNYyhQc</th>\n",
       "      <td>262</td>\n",
       "    </tr>\n",
       "    <tr>\n",
       "      <th>Steve Hilton: Who pays the bill for the shutdown?</th>\n",
       "      <th>Fox News</th>\n",
       "      <th>News &amp; Politics</th>\n",
       "      <th>xKtUEwdlY3I</th>\n",
       "      <td>249</td>\n",
       "    </tr>\n",
       "    <tr>\n",
       "      <th>Nightly News Full Broadcast (May 3rd)</th>\n",
       "      <th>NBC News</th>\n",
       "      <th>News &amp; Politics</th>\n",
       "      <th>I57pZBu6swk</th>\n",
       "      <td>237</td>\n",
       "    </tr>\n",
       "    <tr>\n",
       "      <th>NBC Nightly News Broadcast (Full) - May 2nd, 2020 | NBC Nightly News</th>\n",
       "      <th>NBC News</th>\n",
       "      <th>News &amp; Politics</th>\n",
       "      <th>mkd-p-uizAs</th>\n",
       "      <td>213</td>\n",
       "    </tr>\n",
       "    <tr>\n",
       "      <th>Coronavirus: Matt Hancock holds UK daily briefing – watch live</th>\n",
       "      <th>Guardian News</th>\n",
       "      <th>News &amp; Politics</th>\n",
       "      <th>MHUS-DhyuWg</th>\n",
       "      <td>189</td>\n",
       "    </tr>\n",
       "    <tr>\n",
       "      <th>Confederacy: Last Week Tonight with John Oliver (HBO)</th>\n",
       "      <th>LastWeekTonight</th>\n",
       "      <th>Entertainment</th>\n",
       "      <th>J5b_-TZwQ0I</th>\n",
       "      <td>172</td>\n",
       "    </tr>\n",
       "    <tr>\n",
       "      <th>Rep. Doug Collins: The 'S' on James Comey's chest is simply 'shame'</th>\n",
       "      <th>Fox News</th>\n",
       "      <th>News &amp; Politics</th>\n",
       "      <th>VqgZ5AAN0LQ</th>\n",
       "      <td>157</td>\n",
       "    </tr>\n",
       "    <tr>\n",
       "      <th>Hannity: Hypocrisy and deceit inside the Democratic Party</th>\n",
       "      <th>Fox News</th>\n",
       "      <th>News &amp; Politics</th>\n",
       "      <th>ALcAvtLs2VU</th>\n",
       "      <td>157</td>\n",
       "    </tr>\n",
       "  </tbody>\n",
       "</table>\n",
       "</div>"
      ],
      "text/plain": [
       "                                                                                                key\n",
       "title                                              channel         genre           id              \n",
       "WATCH LIVE: New York Gov. Cuomo holds a briefin... CNBC Television News & Politics NwEldF5Me9Q  856\n",
       "Live: NY Gov Cuomo holds coronavirus press conf... Fox News        News & Politics 8RNNCmY-SXw  751\n",
       "Live: New York Gov. Andrew Cuomo Holds Coronavi... NBC News        News & Politics 9Y861dM3V4w  582\n",
       "New York Governor Andrew Cuomo gives COVID-19 d... The Sun         News & Politics DkglG2j8Ajs  527\n",
       "Live: Matt Hancock gives UK government's daily ... ITV News        News & Politics qEpaNXQq_HY  497\n",
       "America Together: Returning to Work Town Hall w... Fox News        News & Politics 6HDUYiyF_DQ  439\n",
       "Sanders: Trump has been 'very upfront and vocal... Fox News        News & Politics 48sjNz8A9dM  415\n",
       "America Together: Returning to Work Town Hall w... Fox News        News & Politics Lg3hFWlOIuU  403\n",
       "Watch Live: New York Governor Andrew Cuomo Deli... TIME            News & Politics QN3IMJioNYY  376\n",
       "Coronavirus VI: Testing: Last Week Tonight with... LastWeekTonight Entertainment   7rl4c-jr7g0  375\n",
       "Coronavirus outbreak: Prime Minister Trudeau ad... Global News     News & Politics wpxSqkJIUBE  370\n",
       "Gowdy, Jordan react to FBI notes for Michael Fl... Fox News        News & Politics LWcRp35uK8s  360\n",
       "Trump's transparency on display at Fox News tow... Fox News        News & Politics mC_jIl6ntM8  347\n",
       "Joe Reacts To Trump Tweet | Morning Joe | MSNBC    MSNBC           News & Politics BFP3QuoCE40  332\n",
       "Biden Accuser 'Not Sure' What Complaint She Cla... MSNBC           News & Politics WEZ66foC5OQ  330\n",
       "Gov. Andrew Cuomo provides daily coronavirus up... USA TODAY       News & Politics 1crA2H0mfYc  306\n",
       "LIVE: New York Governor Cuomo delivers update o... Yahoo Finance   News & Politics dgSJC38yRn8  286\n",
       "Gutfeld: As we prepare to get back to work, let... Fox News        News & Politics jy4GiNYyhQc  262\n",
       "Steve Hilton: Who pays the bill for the shutdown?  Fox News        News & Politics xKtUEwdlY3I  249\n",
       "Nightly News Full Broadcast (May 3rd)              NBC News        News & Politics I57pZBu6swk  237\n",
       "NBC Nightly News Broadcast (Full) - May 2nd, 20... NBC News        News & Politics mkd-p-uizAs  213\n",
       "Coronavirus: Matt Hancock holds UK daily briefi... Guardian News   News & Politics MHUS-DhyuWg  189\n",
       "Confederacy: Last Week Tonight with John Oliver... LastWeekTonight Entertainment   J5b_-TZwQ0I  172\n",
       "Rep. Doug Collins: The 'S' on James Comey's che... Fox News        News & Politics VqgZ5AAN0LQ  157\n",
       "Hannity: Hypocrisy and deceit inside the Democr... Fox News        News & Politics ALcAvtLs2VU  157"
      ]
     },
     "execution_count": 5,
     "metadata": {},
     "output_type": "execute_result"
    }
   ],
   "source": [
    "top25"
   ]
  },
  {
   "cell_type": "code",
   "execution_count": 8,
   "metadata": {},
   "outputs": [
    {
     "data": {
      "text/plain": [
       "0.4815513626834382"
      ]
     },
     "execution_count": 8,
     "metadata": {},
     "output_type": "execute_result"
    }
   ],
   "source": [
    "#top25 videos weight\n",
    "top25['key'].sum() / len(flat_data)"
   ]
  },
  {
   "cell_type": "code",
   "execution_count": 11,
   "metadata": {},
   "outputs": [
    {
     "data": {
      "text/plain": [
       "367.52"
      ]
     },
     "execution_count": 11,
     "metadata": {},
     "output_type": "execute_result"
    }
   ],
   "source": [
    "#top25 average - number of videos per unique video\n",
    "top25['key'].sum() / 25"
   ]
  },
  {
   "cell_type": "code",
   "execution_count": 12,
   "metadata": {},
   "outputs": [],
   "source": [
    "top25_channel = flat_data[['channel','key']].groupby(['channel']).count().sort_values(by='key',ascending=False).head(25)"
   ]
  },
  {
   "cell_type": "code",
   "execution_count": 13,
   "metadata": {},
   "outputs": [
    {
     "data": {
      "text/html": [
       "<div>\n",
       "<style scoped>\n",
       "    .dataframe tbody tr th:only-of-type {\n",
       "        vertical-align: middle;\n",
       "    }\n",
       "\n",
       "    .dataframe tbody tr th {\n",
       "        vertical-align: top;\n",
       "    }\n",
       "\n",
       "    .dataframe thead th {\n",
       "        text-align: right;\n",
       "    }\n",
       "</style>\n",
       "<table border=\"1\" class=\"dataframe\">\n",
       "  <thead>\n",
       "    <tr style=\"text-align: right;\">\n",
       "      <th></th>\n",
       "      <th>key</th>\n",
       "    </tr>\n",
       "    <tr>\n",
       "      <th>channel</th>\n",
       "      <th></th>\n",
       "    </tr>\n",
       "  </thead>\n",
       "  <tbody>\n",
       "    <tr>\n",
       "      <th>Fox News</th>\n",
       "      <td>4284</td>\n",
       "    </tr>\n",
       "    <tr>\n",
       "      <th>LastWeekTonight</th>\n",
       "      <td>1731</td>\n",
       "    </tr>\n",
       "    <tr>\n",
       "      <th>MSNBC</th>\n",
       "      <td>1670</td>\n",
       "    </tr>\n",
       "    <tr>\n",
       "      <th>NBC News</th>\n",
       "      <td>1522</td>\n",
       "    </tr>\n",
       "    <tr>\n",
       "      <th>CNBC Television</th>\n",
       "      <td>1016</td>\n",
       "    </tr>\n",
       "    <tr>\n",
       "      <th>Global News</th>\n",
       "      <td>770</td>\n",
       "    </tr>\n",
       "    <tr>\n",
       "      <th>ITV News</th>\n",
       "      <td>708</td>\n",
       "    </tr>\n",
       "    <tr>\n",
       "      <th>The Sun</th>\n",
       "      <td>611</td>\n",
       "    </tr>\n",
       "    <tr>\n",
       "      <th>Yahoo Finance</th>\n",
       "      <td>394</td>\n",
       "    </tr>\n",
       "    <tr>\n",
       "      <th>TIME</th>\n",
       "      <td>378</td>\n",
       "    </tr>\n",
       "    <tr>\n",
       "      <th>Guardian News</th>\n",
       "      <td>315</td>\n",
       "    </tr>\n",
       "    <tr>\n",
       "      <th>PBS NewsHour</th>\n",
       "      <td>307</td>\n",
       "    </tr>\n",
       "    <tr>\n",
       "      <th>USA TODAY</th>\n",
       "      <td>306</td>\n",
       "    </tr>\n",
       "    <tr>\n",
       "      <th>HooverInstitution</th>\n",
       "      <td>212</td>\n",
       "    </tr>\n",
       "    <tr>\n",
       "      <th>TheEllenShow</th>\n",
       "      <td>210</td>\n",
       "    </tr>\n",
       "    <tr>\n",
       "      <th>Valuetainment</th>\n",
       "      <td>185</td>\n",
       "    </tr>\n",
       "    <tr>\n",
       "      <th>CNBC</th>\n",
       "      <td>184</td>\n",
       "    </tr>\n",
       "    <tr>\n",
       "      <th>The Obama White House</th>\n",
       "      <td>164</td>\n",
       "    </tr>\n",
       "    <tr>\n",
       "      <th>Reagan Library</th>\n",
       "      <td>162</td>\n",
       "    </tr>\n",
       "    <tr>\n",
       "      <th>The Eric Metaxas Radio Show</th>\n",
       "      <td>133</td>\n",
       "    </tr>\n",
       "    <tr>\n",
       "      <th>NowThis News</th>\n",
       "      <td>129</td>\n",
       "    </tr>\n",
       "    <tr>\n",
       "      <th>CBC News</th>\n",
       "      <td>110</td>\n",
       "    </tr>\n",
       "    <tr>\n",
       "      <th>Democracy Now!</th>\n",
       "      <td>110</td>\n",
       "    </tr>\n",
       "    <tr>\n",
       "      <th>The Hill</th>\n",
       "      <td>107</td>\n",
       "    </tr>\n",
       "    <tr>\n",
       "      <th>Wendover Productions</th>\n",
       "      <td>100</td>\n",
       "    </tr>\n",
       "  </tbody>\n",
       "</table>\n",
       "</div>"
      ],
      "text/plain": [
       "                              key\n",
       "channel                          \n",
       "Fox News                     4284\n",
       "LastWeekTonight              1731\n",
       "MSNBC                        1670\n",
       "NBC News                     1522\n",
       "CNBC Television              1016\n",
       "Global News                   770\n",
       "ITV News                      708\n",
       "The Sun                       611\n",
       "Yahoo Finance                 394\n",
       "TIME                          378\n",
       "Guardian News                 315\n",
       "PBS NewsHour                  307\n",
       "USA TODAY                     306\n",
       "HooverInstitution             212\n",
       "TheEllenShow                  210\n",
       "Valuetainment                 185\n",
       "CNBC                          184\n",
       "The Obama White House         164\n",
       "Reagan Library                162\n",
       "The Eric Metaxas Radio Show   133\n",
       "NowThis News                  129\n",
       "CBC News                      110\n",
       "Democracy Now!                110\n",
       "The Hill                      107\n",
       "Wendover Productions          100"
      ]
     },
     "execution_count": 13,
     "metadata": {},
     "output_type": "execute_result"
    }
   ],
   "source": [
    "top25_channel"
   ]
  },
  {
   "cell_type": "code",
   "execution_count": 24,
   "metadata": {},
   "outputs": [],
   "source": [
    "# export Data.Frame\n",
    "top25_channel.to_csv(r'./data/top25/20200504-193926_joe_biden_top25_channel.csv', header=True)"
   ]
  },
  {
   "cell_type": "code",
   "execution_count": 14,
   "metadata": {},
   "outputs": [
    {
     "data": {
      "text/plain": [
       "0.8290356394129978"
      ]
     },
     "execution_count": 14,
     "metadata": {},
     "output_type": "execute_result"
    }
   ],
   "source": [
    "#top25_channel channel weight\n",
    "top25_channel['key'].sum() / len(flat_data)"
   ]
  },
  {
   "cell_type": "code",
   "execution_count": 15,
   "metadata": {},
   "outputs": [
    {
     "data": {
      "text/plain": [
       "632.72"
      ]
     },
     "execution_count": 15,
     "metadata": {},
     "output_type": "execute_result"
    }
   ],
   "source": [
    "#top25 average - number of videos per unique video\n",
    "top25_channel['key'].sum() / 25"
   ]
  },
  {
   "cell_type": "code",
   "execution_count": 19,
   "metadata": {},
   "outputs": [],
   "source": [
    "#top3 by genre\n",
    "top3_genre = flat_data[['genre','key']].groupby(['genre']).count().sort_values(by='key',ascending=False).head(3)"
   ]
  },
  {
   "cell_type": "code",
   "execution_count": 20,
   "metadata": {},
   "outputs": [
    {
     "data": {
      "text/html": [
       "<div>\n",
       "<style scoped>\n",
       "    .dataframe tbody tr th:only-of-type {\n",
       "        vertical-align: middle;\n",
       "    }\n",
       "\n",
       "    .dataframe tbody tr th {\n",
       "        vertical-align: top;\n",
       "    }\n",
       "\n",
       "    .dataframe thead th {\n",
       "        text-align: right;\n",
       "    }\n",
       "</style>\n",
       "<table border=\"1\" class=\"dataframe\">\n",
       "  <thead>\n",
       "    <tr style=\"text-align: right;\">\n",
       "      <th></th>\n",
       "      <th>key</th>\n",
       "    </tr>\n",
       "    <tr>\n",
       "      <th>genre</th>\n",
       "      <th></th>\n",
       "    </tr>\n",
       "  </thead>\n",
       "  <tbody>\n",
       "    <tr>\n",
       "      <th>News &amp; Politics</th>\n",
       "      <td>14387</td>\n",
       "    </tr>\n",
       "    <tr>\n",
       "      <th>Entertainment</th>\n",
       "      <td>2319</td>\n",
       "    </tr>\n",
       "    <tr>\n",
       "      <th>Education</th>\n",
       "      <td>848</td>\n",
       "    </tr>\n",
       "  </tbody>\n",
       "</table>\n",
       "</div>"
      ],
      "text/plain": [
       "                   key\n",
       "genre                 \n",
       "News & Politics  14387\n",
       "Entertainment     2319\n",
       "Education          848"
      ]
     },
     "execution_count": 20,
     "metadata": {},
     "output_type": "execute_result"
    }
   ],
   "source": [
    "top3_genre"
   ]
  },
  {
   "cell_type": "code",
   "execution_count": 22,
   "metadata": {},
   "outputs": [
    {
     "data": {
      "text/plain": [
       "0.920020964360587"
      ]
     },
     "execution_count": 22,
     "metadata": {},
     "output_type": "execute_result"
    }
   ],
   "source": [
    "#top3_genre genre weight\n",
    "top3_genre['key'].sum() / len(flat_data)"
   ]
  },
  {
   "cell_type": "code",
   "execution_count": null,
   "metadata": {},
   "outputs": [],
   "source": []
  },
  {
   "cell_type": "code",
   "execution_count": null,
   "metadata": {},
   "outputs": [],
   "source": []
  },
  {
   "cell_type": "code",
   "execution_count": 4,
   "metadata": {},
   "outputs": [],
   "source": [
    "channels = flat_data[['channel','key']].groupby(['channel']).count().sort_values(by='key',ascending=False)"
   ]
  },
  {
   "cell_type": "code",
   "execution_count": 5,
   "metadata": {},
   "outputs": [],
   "source": [
    "# export Data.Frame\n",
    "channels.to_csv(r'./data/channels/20200504-193926_joe_biden_channels_all.csv', header=True)"
   ]
  },
  {
   "cell_type": "code",
   "execution_count": null,
   "metadata": {},
   "outputs": [],
   "source": []
  }
 ],
 "metadata": {
  "kernelspec": {
   "display_name": "Python 3",
   "language": "python",
   "name": "python3"
  },
  "language_info": {
   "codemirror_mode": {
    "name": "ipython",
    "version": 3
   },
   "file_extension": ".py",
   "mimetype": "text/x-python",
   "name": "python",
   "nbconvert_exporter": "python",
   "pygments_lexer": "ipython3",
   "version": "3.7.3"
  }
 },
 "nbformat": 4,
 "nbformat_minor": 2
}
