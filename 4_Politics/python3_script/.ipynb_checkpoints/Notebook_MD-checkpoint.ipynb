{
 "cells": [
  {
   "cell_type": "code",
   "execution_count": 1,
   "metadata": {},
   "outputs": [],
   "source": [
    "import json\n",
    "import pandas as pd\n",
    "from difflib import SequenceMatcher\n",
    "from tqdm import tnrange, tqdm_notebook"
   ]
  },
  {
   "cell_type": "code",
   "execution_count": 2,
   "metadata": {},
   "outputs": [],
   "source": [
    "with open('data/videos/20200504-193926_joe_biden.json') as file:\n",
    "    data = json.loads(file.read())"
   ]
  },
  {
   "cell_type": "code",
   "execution_count": 3,
   "metadata": {},
   "outputs": [],
   "source": [
    "with open('data/media_bias.json') as file:\n",
    "    media_bias = json.loads(file.read())"
   ]
  },
  {
   "cell_type": "code",
   "execution_count": 4,
   "metadata": {},
   "outputs": [],
   "source": [
    "max = 0\n",
    "for row in data:\n",
    "    this_len = len(row[list(row.keys())[0]]['recommendations'])\n",
    "    if this_len > max:\n",
    "        max = this_len"
   ]
  },
  {
   "cell_type": "code",
   "execution_count": 5,
   "metadata": {},
   "outputs": [],
   "source": [
    "columns = ['id', 'title', 'genre', 'views', 'likes', 'dislikes', 'description', 'duration', \n",
    "           'datePublished', 'uploadDate', 'key', 'channel', 'channel_url', 'channel_id', \n",
    "           'recommendation1', 'recommendation2', 'recommendation3', \n",
    "           'recommendation4', 'recommendation5', 'recommendation6']"
   ]
  },
  {
   "cell_type": "code",
   "execution_count": 6,
   "metadata": {},
   "outputs": [],
   "source": [
    "def get_recommendation(row, no):\n",
    "    try:\n",
    "        return row['recommendations'][no]\n",
    "    except:\n",
    "        return None"
   ]
  },
  {
   "cell_type": "code",
   "execution_count": 7,
   "metadata": {},
   "outputs": [
    {
     "data": {
      "application/vnd.jupyter.widget-view+json": {
       "model_id": "91411e0aebf24de0814743503f47a247",
       "version_major": 2,
       "version_minor": 0
      },
      "text/plain": [
       "HBox(children=(IntProgress(value=0, max=19080), HTML(value='')))"
      ]
     },
     "metadata": {},
     "output_type": "display_data"
    },
    {
     "name": "stdout",
     "output_type": "stream",
     "text": [
      "\n"
     ]
    }
   ],
   "source": [
    "df = pd.DataFrame([], columns=columns)\n",
    "for row in tqdm_notebook(data):\n",
    "    this_row = row[list(row.keys())[0]]\n",
    "    df = df.append({\n",
    "        'id': list(row.keys())[0],\n",
    "        'title': this_row['title'],\n",
    "        'genre': this_row['genre'],\n",
    "        'views': this_row['views'],\n",
    "        'likes': this_row['likes'],\n",
    "        'dislikes': this_row['dislikes'],\n",
    "        'description': this_row['description'],\n",
    "        'duration': this_row['duration'],\n",
    "        'datePublished': this_row['datePublished'],\n",
    "        'uploadDate': this_row['uploadDate'],\n",
    "        'key': this_row['key'],\n",
    "        'channel': this_row['channel'],\n",
    "        'channel_url': this_row['channel_url'],\n",
    "        'channel_id': this_row['channel_id'],\n",
    "        'recommendation1': get_recommendation(this_row, 0),\n",
    "        'recommendation2': get_recommendation(this_row, 1),\n",
    "        'recommendation3': get_recommendation(this_row, 2),\n",
    "        'recommendation4': get_recommendation(this_row, 3),\n",
    "        'recommendation5': get_recommendation(this_row, 4),\n",
    "        'recommendation6': get_recommendation(this_row, 5),\n",
    "    }, ignore_index=True)"
   ]
  },
  {
   "cell_type": "code",
   "execution_count": 8,
   "metadata": {},
   "outputs": [
    {
     "data": {
      "application/vnd.jupyter.widget-view+json": {
       "model_id": "0b1d2bb02c674965a584f89a2074109d",
       "version_major": 2,
       "version_minor": 0
      },
      "text/plain": [
       "HBox(children=(IntProgress(value=0, max=544), HTML(value='')))"
      ]
     },
     "metadata": {},
     "output_type": "display_data"
    },
    {
     "name": "stdout",
     "output_type": "stream",
     "text": [
      "\n"
     ]
    }
   ],
   "source": [
    "similar = {}\n",
    "for channel in tqdm_notebook(df['channel'].unique()):\n",
    "    ratio = 0\n",
    "    if channel == None:\n",
    "        continue\n",
    "    for bias in media_bias.keys():\n",
    "        this_ratio = SequenceMatcher(None, channel, bias.strip()).ratio()\n",
    "        if this_ratio > ratio:\n",
    "            ratio = this_ratio\n",
    "            similar[channel] = {\n",
    "                'media': bias.strip(),\n",
    "                'bias': media_bias[bias],\n",
    "                'similarity': this_ratio\n",
    "            }"
   ]
  },
  {
   "cell_type": "code",
   "execution_count": 9,
   "metadata": {},
   "outputs": [],
   "source": [
    "similar_df = pd.DataFrame([], columns=['channel', 'media', 'bias', 'similarity'])\n",
    "for row in similar.keys():\n",
    "    similar_df = similar_df.append({\n",
    "        'channel': row,\n",
    "        'media': similar[row]['media'],\n",
    "        'bias': similar[row]['bias'],\n",
    "        'similarity': similar[row]['similarity'],\n",
    "    }, ignore_index=True)\n",
    "similar_df.to_csv('data/similarity.csv') # Modify manually and reload"
   ]
  },
  {
   "cell_type": "code",
   "execution_count": 10,
   "metadata": {},
   "outputs": [],
   "source": [
    "similar_df = pd.read_csv('data/similarity.csv', index_col=0)"
   ]
  },
  {
   "cell_type": "code",
   "execution_count": 11,
   "metadata": {},
   "outputs": [],
   "source": [
    "df = df.merge(similar_df, on='channel')"
   ]
  },
  {
   "cell_type": "code",
   "execution_count": 13,
   "metadata": {},
   "outputs": [],
   "source": [
    "df_dict = {}\n",
    "for i, row in df.iterrows():\n",
    "    df_dict[row['id']] = row['bias']"
   ]
  },
  {
   "cell_type": "code",
   "execution_count": 69,
   "metadata": {},
   "outputs": [],
   "source": [
    "df_calculations = {i: {\n",
    "    'Self': None,\n",
    "    'Left': 0,\n",
    "    'Right': 0,\n",
    "    'Right-Center': 0,\n",
    "    'Left-Center': 0,\n",
    "    'Least Biased': 0,\n",
    "    'Questionable': 0,\n",
    "    'Pro Science': 0,\n",
    "    'Satire': 0,\n",
    "    'Conspiracy-Pseudoscience': 0,\n",
    "} for i in df['id'].unique()}\n",
    "\n",
    "for row in data:\n",
    "    this_id = list(row.keys())[0]\n",
    "    try:\n",
    "        this_bias = df_dict[this_id]\n",
    "    except Exception as e:\n",
    "        this_bias = None\n",
    "    try:\n",
    "        if df_calculations[this_id]['Self'] == None:\n",
    "            df_calculations[this_id]['Self'] = this_bias\n",
    "            number_recommendations = 0\n",
    "            for recommendation in row[this_id]['recommendations']:\n",
    "                try:\n",
    "                    that_bias = df_dict[recommendation]\n",
    "                except Exception as e:\n",
    "                    that_bias = None\n",
    "                if that_bias != None:\n",
    "                    df_calculations[this_id][that_bias] += 1\n",
    "                    number_recommendations += 1\n",
    "            for k in df_calculations[this_id].keys():\n",
    "                if k != 'Self':\n",
    "                    df_calculations[this_id][k] = df_calculations[this_id][k] / number_recommendations\n",
    "    except:\n",
    "        pass"
   ]
  },
  {
   "cell_type": "code",
   "execution_count": 71,
   "metadata": {},
   "outputs": [],
   "source": [
    "final = pd.DataFrame([], columns=['Self', 'Left', 'Right', 'Right-Center', 'Left-Center', 'Least Biased', 'Questionable', 'Pro Science', 'Satire', 'Conspiracy-Pseudoscience'])\n",
    "for row in df_calculations.keys():\n",
    "    final = final.append(df_calculations[row], ignore_index=True)"
   ]
  },
  {
   "cell_type": "code",
   "execution_count": 72,
   "metadata": {},
   "outputs": [],
   "source": [
    "final.to_csv('data/final.csv')"
   ]
  },
  {
   "cell_type": "code",
   "execution_count": 80,
   "metadata": {},
   "outputs": [
    {
     "data": {
      "text/plain": [
       "<matplotlib.axes._subplots.AxesSubplot at 0x118f17610>"
      ]
     },
     "execution_count": 80,
     "metadata": {},
     "output_type": "execute_result"
    },
    {
     "data": {
      "image/png": "[encoded data removed]",
      "text/plain": [
       "<Figure size 1152x648 with 1 Axes>"
      ]
     },
     "metadata": {
      "needs_background": "light"
     },
     "output_type": "display_data"
    }
   ],
   "source": [
    "final.groupby(['Self']).mean().plot.bar(figsize=(16, 9))"
   ]
  },
  {
   "cell_type": "code",
   "execution_count": 130,
   "metadata": {},
   "outputs": [
    {
     "data": {
      "image/png": "[encoded data removed]",
      "text/plain": [
       "<Figure size 1152x648 with 1 Axes>"
      ]
     },
     "metadata": {
      "needs_background": "light"
     },
     "output_type": "display_data"
    }
   ],
   "source": [
    "import numpy as np\n",
    "plt.figure(figsize=(16, 9))\n",
    "plt.pcolor(final.groupby(['Self']).mean()[final.groupby(['Self']).mean().index])\n",
    "plt.yticks(np.arange(len(final['Self'].unique())), final['Self'].unique(), verticalalignment='top')\n",
    "plt.xticks(np.arange(len(final['Self'].unique())), final['Self'].unique(), horizontalalignment='left')\n",
    "plt.show()"
   ]
  },
  {
   "cell_type": "code",
   "execution_count": null,
   "metadata": {},
   "outputs": [],
   "source": []
  }
 ],
 "metadata": {
  "kernelspec": {
   "display_name": "Python 3",
   "language": "python",
   "name": "python3"
  },
  "language_info": {
   "codemirror_mode": {
    "name": "ipython",
    "version": 3
   },
   "file_extension": ".py",
   "mimetype": "text/x-python",
   "name": "python",
   "nbconvert_exporter": "python",
   "pygments_lexer": "ipython3",
   "version": "3.7.4"
  }
 },
 "nbformat": 4,
 "nbformat_minor": 2
}
