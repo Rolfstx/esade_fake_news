{
 "cells": [
  {
   "cell_type": "code",
   "execution_count": 34,
   "metadata": {},
   "outputs": [],
   "source": [
    "import json\n",
    "import pandas as pd\n",
    "\n",
    "with open('data/videos/20200505-164623_climate_change_a_hoax.json') as json_file:\n",
    "    data = json.load(json_file)"
   ]
  },
  {
   "cell_type": "code",
   "execution_count": 35,
   "metadata": {},
   "outputs": [],
   "source": [
    "ids = [list(d.keys())[0] for d in data]\n",
    "flat_data = []\n",
    "for unique_id in ids:\n",
    "    flat = dict(data[ids.index(unique_id)][unique_id])\n",
    "    flat['id'] = unique_id\n",
    "    flat['recommendations'] = len(flat['recommendations'])\n",
    "    flat_data.append(flat)\n",
    "flat_data = pd.DataFrame(flat_data)"
   ]
  },
  {
   "cell_type": "code",
   "execution_count": 36,
   "metadata": {},
   "outputs": [],
   "source": [
    "top25 = flat_data[['title','id','channel','genre','key']].groupby(['title','channel','genre','id']).count().sort_values(by='key',ascending=False).head(25)"
   ]
  },
  {
   "cell_type": "code",
   "execution_count": 37,
   "metadata": {},
   "outputs": [],
   "source": [
    "# export Data.Frame\n",
    "top25.to_csv(r'./data/top25/20200505-164623_climate_change_a_hoax_top25.csv', header=True)"
   ]
  },
  {
   "cell_type": "code",
   "execution_count": 38,
   "metadata": {},
   "outputs": [
    {
     "data": {
      "text/html": [
       "<div>\n",
       "<style scoped>\n",
       "    .dataframe tbody tr th:only-of-type {\n",
       "        vertical-align: middle;\n",
       "    }\n",
       "\n",
       "    .dataframe tbody tr th {\n",
       "        vertical-align: top;\n",
       "    }\n",
       "\n",
       "    .dataframe thead th {\n",
       "        text-align: right;\n",
       "    }\n",
       "</style>\n",
       "<table border=\"1\" class=\"dataframe\">\n",
       "  <thead>\n",
       "    <tr style=\"text-align: right;\">\n",
       "      <th></th>\n",
       "      <th></th>\n",
       "      <th></th>\n",
       "      <th></th>\n",
       "      <th>key</th>\n",
       "    </tr>\n",
       "    <tr>\n",
       "      <th>title</th>\n",
       "      <th>channel</th>\n",
       "      <th>genre</th>\n",
       "      <th>id</th>\n",
       "      <th></th>\n",
       "    </tr>\n",
       "  </thead>\n",
       "  <tbody>\n",
       "    <tr>\n",
       "      <td>Live: Rep. John Ratcliffe' confirmation hearing as Director of National Intelligence</td>\n",
       "      <td>Fox News</td>\n",
       "      <td>News &amp; Politics</td>\n",
       "      <td>XC0Uhgmj81k</td>\n",
       "      <td>45</td>\n",
       "    </tr>\n",
       "    <tr>\n",
       "      <td>Ingraham: The 'experts' strike again</td>\n",
       "      <td>Fox News</td>\n",
       "      <td>News &amp; Politics</td>\n",
       "      <td>5iPihogbh3o</td>\n",
       "      <td>28</td>\n",
       "    </tr>\n",
       "    <tr>\n",
       "      <td>LISTEN LIVE: Supreme Court hears arguments by phone</td>\n",
       "      <td>PBS NewsHour</td>\n",
       "      <td>News &amp; Politics</td>\n",
       "      <td>Lh3KhdiKjdI</td>\n",
       "      <td>22</td>\n",
       "    </tr>\n",
       "    <tr>\n",
       "      <td>LIVE: President Trump Visits Phoenix, Arizona</td>\n",
       "      <td>FOX 10 Phoenix</td>\n",
       "      <td>News &amp; Politics</td>\n",
       "      <td>DX-k_2gZ8yA</td>\n",
       "      <td>21</td>\n",
       "    </tr>\n",
       "    <tr>\n",
       "      <td>Dr. Fauci to Chris Cuomo: I don't think people realized how you were sucking it up</td>\n",
       "      <td>CNN</td>\n",
       "      <td>News &amp; Politics</td>\n",
       "      <td>OsixLetpQ3w</td>\n",
       "      <td>20</td>\n",
       "    </tr>\n",
       "    <tr>\n",
       "      <td>Victor Davis Hanson on “The Case For Trump”</td>\n",
       "      <td>HooverInstitution</td>\n",
       "      <td>News &amp; Politics</td>\n",
       "      <td>FEXL5USuDGI</td>\n",
       "      <td>19</td>\n",
       "    </tr>\n",
       "    <tr>\n",
       "      <td>LIVE: Stock market seeks footing as some U.S. states reopen economies</td>\n",
       "      <td>Yahoo Finance</td>\n",
       "      <td>News &amp; Politics</td>\n",
       "      <td>KAk7VSOOcxk</td>\n",
       "      <td>18</td>\n",
       "    </tr>\n",
       "    <tr>\n",
       "      <td>Hannity: It's time for Christopher Wray to get the FBI in order</td>\n",
       "      <td>Fox News</td>\n",
       "      <td>News &amp; Politics</td>\n",
       "      <td>fAtuqyUGSzk</td>\n",
       "      <td>16</td>\n",
       "    </tr>\n",
       "    <tr>\n",
       "      <td>White House rejects coronavirus spike forecast as states reopen</td>\n",
       "      <td>Fox News</td>\n",
       "      <td>News &amp; Politics</td>\n",
       "      <td>JyU33ArKWwg</td>\n",
       "      <td>16</td>\n",
       "    </tr>\n",
       "    <tr>\n",
       "      <td>Watch Full Coronavirus Coverage - May 5 | NBC News Now (Live Stream)</td>\n",
       "      <td>NBC News</td>\n",
       "      <td>News &amp; Politics</td>\n",
       "      <td>T_E-CB9TFEQ</td>\n",
       "      <td>16</td>\n",
       "    </tr>\n",
       "    <tr>\n",
       "      <td>Professor Ian Plimer book launch - Not For Greens</td>\n",
       "      <td>Institute of Public Affairs</td>\n",
       "      <td>News &amp; Politics</td>\n",
       "      <td>lMfYjKauHbs</td>\n",
       "      <td>15</td>\n",
       "    </tr>\n",
       "    <tr>\n",
       "      <td>Listen live: Supreme Court to hear oral arguments in dispute over HIV/AIDS funding</td>\n",
       "      <td>CBS News</td>\n",
       "      <td>News &amp; Politics</td>\n",
       "      <td>PmkViLAAcNQ</td>\n",
       "      <td>15</td>\n",
       "    </tr>\n",
       "    <tr>\n",
       "      <td>LIVE market coverage: Tuesday May 5 Yahoo Finance</td>\n",
       "      <td>Yahoo Finance</td>\n",
       "      <td>News &amp; Politics</td>\n",
       "      <td>d8Lk0b8-P3g</td>\n",
       "      <td>14</td>\n",
       "    </tr>\n",
       "    <tr>\n",
       "      <td>WATCH LIVE: New York City Mayor Bill de Blasio speaks on coronavirus response - 5/5/2020</td>\n",
       "      <td>CNBC Television</td>\n",
       "      <td>News &amp; Politics</td>\n",
       "      <td>NCukczKQR7M</td>\n",
       "      <td>13</td>\n",
       "    </tr>\n",
       "    <tr>\n",
       "      <td>Victor Davis Hanson on Corona, California, and the Classical World</td>\n",
       "      <td>HooverInstitution</td>\n",
       "      <td>News &amp; Politics</td>\n",
       "      <td>KqCudv-JQ2o</td>\n",
       "      <td>13</td>\n",
       "    </tr>\n",
       "    <tr>\n",
       "      <td>Mark Steyn - Speech to the IPA's Gala Dinner in Melbourne 2016</td>\n",
       "      <td>Institute of Public Affairs</td>\n",
       "      <td>News &amp; Politics</td>\n",
       "      <td>_hCtuGNRN1U</td>\n",
       "      <td>13</td>\n",
       "    </tr>\n",
       "    <tr>\n",
       "      <td>NYC Mayor De Blasio Updates on Coronavirus Response</td>\n",
       "      <td>NBC New York</td>\n",
       "      <td>News &amp; Politics</td>\n",
       "      <td>G_X9H-Ht690</td>\n",
       "      <td>13</td>\n",
       "    </tr>\n",
       "    <tr>\n",
       "      <td>Thomas Sowell on the Myths of Economic Inequality</td>\n",
       "      <td>HooverInstitution</td>\n",
       "      <td>News &amp; Politics</td>\n",
       "      <td>mS5WYp5xmvI</td>\n",
       "      <td>13</td>\n",
       "    </tr>\n",
       "    <tr>\n",
       "      <td>50 to 1 Project - Anthony Watts Interview</td>\n",
       "      <td>TopherField</td>\n",
       "      <td>News &amp; Politics</td>\n",
       "      <td>RiuHOzykxC0</td>\n",
       "      <td>12</td>\n",
       "    </tr>\n",
       "    <tr>\n",
       "      <td>LISTEN LIVE: Supreme Court hears arguments by phone</td>\n",
       "      <td>PBS NewsHour</td>\n",
       "      <td>News &amp; Politics</td>\n",
       "      <td>i70fgOmNLX0</td>\n",
       "      <td>12</td>\n",
       "    </tr>\n",
       "    <tr>\n",
       "      <td>Tucker: Why isn't the ACLU fighting for our liberties?</td>\n",
       "      <td>Fox News</td>\n",
       "      <td>News &amp; Politics</td>\n",
       "      <td>-C45Zd5g1mU</td>\n",
       "      <td>12</td>\n",
       "    </tr>\n",
       "    <tr>\n",
       "      <td>The Ten Tests to Determine Whether You Should Be Concerned about Global Warming.</td>\n",
       "      <td>DDPmeetings</td>\n",
       "      <td>News &amp; Politics</td>\n",
       "      <td>q_-A-uDu2fQ</td>\n",
       "      <td>12</td>\n",
       "    </tr>\n",
       "    <tr>\n",
       "      <td>Thomas Sowell on the second edition of Intellectuals and Society</td>\n",
       "      <td>HooverInstitution</td>\n",
       "      <td>News &amp; Politics</td>\n",
       "      <td>JyufeHJlodE</td>\n",
       "      <td>10</td>\n",
       "    </tr>\n",
       "    <tr>\n",
       "      <td>How the UN’s Agenda 21 Influences Every Aspect of Society</td>\n",
       "      <td>DDPmeetings</td>\n",
       "      <td>News &amp; Politics</td>\n",
       "      <td>52NaRLPzDcg</td>\n",
       "      <td>10</td>\n",
       "    </tr>\n",
       "    <tr>\n",
       "      <td>Believing Six Impossible Things before Breakfast, and Climate Models. Christopher Essex, Ph.D.</td>\n",
       "      <td>DDPmeetings</td>\n",
       "      <td>People &amp; Blogs</td>\n",
       "      <td>hvhipLNeda4</td>\n",
       "      <td>10</td>\n",
       "    </tr>\n",
       "  </tbody>\n",
       "</table>\n",
       "</div>"
      ],
      "text/plain": [
       "                                                                                                            key\n",
       "title                                              channel                     genre           id              \n",
       "Live: Rep. John Ratcliffe' confirmation hearing... Fox News                    News & Politics XC0Uhgmj81k   45\n",
       "Ingraham: The 'experts' strike again               Fox News                    News & Politics 5iPihogbh3o   28\n",
       "LISTEN LIVE: Supreme Court hears arguments by p... PBS NewsHour                News & Politics Lh3KhdiKjdI   22\n",
       "LIVE: President Trump Visits Phoenix, Arizona      FOX 10 Phoenix              News & Politics DX-k_2gZ8yA   21\n",
       "Dr. Fauci to Chris Cuomo: I don't think people ... CNN                         News & Politics OsixLetpQ3w   20\n",
       "Victor Davis Hanson on “The Case For Trump”        HooverInstitution           News & Politics FEXL5USuDGI   19\n",
       "LIVE: Stock market seeks footing as some U.S. s... Yahoo Finance               News & Politics KAk7VSOOcxk   18\n",
       "Hannity: It's time for Christopher Wray to get ... Fox News                    News & Politics fAtuqyUGSzk   16\n",
       "White House rejects coronavirus spike forecast ... Fox News                    News & Politics JyU33ArKWwg   16\n",
       "Watch Full Coronavirus Coverage - May 5 | NBC N... NBC News                    News & Politics T_E-CB9TFEQ   16\n",
       "Professor Ian Plimer book launch - Not For Greens  Institute of Public Affairs News & Politics lMfYjKauHbs   15\n",
       "Listen live: Supreme Court to hear oral argumen... CBS News                    News & Politics PmkViLAAcNQ   15\n",
       "LIVE market coverage: Tuesday May 5 Yahoo Finance  Yahoo Finance               News & Politics d8Lk0b8-P3g   14\n",
       "WATCH LIVE: New York City Mayor Bill de Blasio ... CNBC Television             News & Politics NCukczKQR7M   13\n",
       "Victor Davis Hanson on Corona, California, and ... HooverInstitution           News & Politics KqCudv-JQ2o   13\n",
       "Mark Steyn - Speech to the IPA's Gala Dinner in... Institute of Public Affairs News & Politics _hCtuGNRN1U   13\n",
       "NYC Mayor De Blasio Updates on Coronavirus Resp... NBC New York                News & Politics G_X9H-Ht690   13\n",
       "Thomas Sowell on the Myths of Economic Inequality  HooverInstitution           News & Politics mS5WYp5xmvI   13\n",
       "50 to 1 Project - Anthony Watts Interview          TopherField                 News & Politics RiuHOzykxC0   12\n",
       "LISTEN LIVE: Supreme Court hears arguments by p... PBS NewsHour                News & Politics i70fgOmNLX0   12\n",
       "Tucker: Why isn't the ACLU fighting for our lib... Fox News                    News & Politics -C45Zd5g1mU   12\n",
       "The Ten Tests to Determine Whether You Should B... DDPmeetings                 News & Politics q_-A-uDu2fQ   12\n",
       "Thomas Sowell on the second edition of Intellec... HooverInstitution           News & Politics JyufeHJlodE   10\n",
       "How the UN’s Agenda 21 Influences Every Aspect ... DDPmeetings                 News & Politics 52NaRLPzDcg   10\n",
       "Believing Six Impossible Things before Breakfas... DDPmeetings                 People & Blogs  hvhipLNeda4   10"
      ]
     },
     "execution_count": 38,
     "metadata": {},
     "output_type": "execute_result"
    }
   ],
   "source": [
    "top25"
   ]
  },
  {
   "cell_type": "code",
   "execution_count": 39,
   "metadata": {},
   "outputs": [
    {
     "data": {
      "text/plain": [
       "0.37777777777777777"
      ]
     },
     "execution_count": 39,
     "metadata": {},
     "output_type": "execute_result"
    }
   ],
   "source": [
    "top25['key'].sum() / len(flat_data)"
   ]
  },
  {
   "cell_type": "code",
   "execution_count": 40,
   "metadata": {},
   "outputs": [
    {
     "data": {
      "text/plain": [
       "16.32"
      ]
     },
     "execution_count": 40,
     "metadata": {},
     "output_type": "execute_result"
    }
   ],
   "source": [
    "#top25 average - number of videos per unique video\n",
    "top25['key'].sum() / 25"
   ]
  },
  {
   "cell_type": "code",
   "execution_count": 41,
   "metadata": {},
   "outputs": [],
   "source": [
    "top25_channel = flat_data[['channel','key']].groupby(['channel']).count().sort_values(by='key',ascending=False).head(25)"
   ]
  },
  {
   "cell_type": "code",
   "execution_count": 42,
   "metadata": {},
   "outputs": [],
   "source": [
    "top25_channel.to_csv(r'./data/top25/20200505-164623_climate_change_a_hoax_top25_channel.csv', header=True)"
   ]
  },
  {
   "cell_type": "code",
   "execution_count": 43,
   "metadata": {},
   "outputs": [
    {
     "data": {
      "text/html": [
       "<div>\n",
       "<style scoped>\n",
       "    .dataframe tbody tr th:only-of-type {\n",
       "        vertical-align: middle;\n",
       "    }\n",
       "\n",
       "    .dataframe tbody tr th {\n",
       "        vertical-align: top;\n",
       "    }\n",
       "\n",
       "    .dataframe thead th {\n",
       "        text-align: right;\n",
       "    }\n",
       "</style>\n",
       "<table border=\"1\" class=\"dataframe\">\n",
       "  <thead>\n",
       "    <tr style=\"text-align: right;\">\n",
       "      <th></th>\n",
       "      <th>key</th>\n",
       "    </tr>\n",
       "    <tr>\n",
       "      <th>channel</th>\n",
       "      <th></th>\n",
       "    </tr>\n",
       "  </thead>\n",
       "  <tbody>\n",
       "    <tr>\n",
       "      <td>HooverInstitution</td>\n",
       "      <td>141</td>\n",
       "    </tr>\n",
       "    <tr>\n",
       "      <td>Fox News</td>\n",
       "      <td>119</td>\n",
       "    </tr>\n",
       "    <tr>\n",
       "      <td>Vox</td>\n",
       "      <td>64</td>\n",
       "    </tr>\n",
       "    <tr>\n",
       "      <td>DDPmeetings</td>\n",
       "      <td>48</td>\n",
       "    </tr>\n",
       "    <tr>\n",
       "      <td>PBS NewsHour</td>\n",
       "      <td>47</td>\n",
       "    </tr>\n",
       "    <tr>\n",
       "      <td>Yahoo Finance</td>\n",
       "      <td>44</td>\n",
       "    </tr>\n",
       "    <tr>\n",
       "      <td>TopherField</td>\n",
       "      <td>40</td>\n",
       "    </tr>\n",
       "    <tr>\n",
       "      <td>CNN</td>\n",
       "      <td>39</td>\n",
       "    </tr>\n",
       "    <tr>\n",
       "      <td>TEDx Talks</td>\n",
       "      <td>36</td>\n",
       "    </tr>\n",
       "    <tr>\n",
       "      <td>NBC News</td>\n",
       "      <td>34</td>\n",
       "    </tr>\n",
       "    <tr>\n",
       "      <td>CBS News</td>\n",
       "      <td>29</td>\n",
       "    </tr>\n",
       "    <tr>\n",
       "      <td>Institute of Public Affairs</td>\n",
       "      <td>28</td>\n",
       "    </tr>\n",
       "    <tr>\n",
       "      <td>CBN News</td>\n",
       "      <td>23</td>\n",
       "    </tr>\n",
       "    <tr>\n",
       "      <td>FOX 10 Phoenix</td>\n",
       "      <td>21</td>\n",
       "    </tr>\n",
       "    <tr>\n",
       "      <td>CNBC Television</td>\n",
       "      <td>20</td>\n",
       "    </tr>\n",
       "    <tr>\n",
       "      <td>Stanford</td>\n",
       "      <td>18</td>\n",
       "    </tr>\n",
       "    <tr>\n",
       "      <td>Liberty University</td>\n",
       "      <td>18</td>\n",
       "    </tr>\n",
       "    <tr>\n",
       "      <td>TED</td>\n",
       "      <td>15</td>\n",
       "    </tr>\n",
       "    <tr>\n",
       "      <td>NowThis News</td>\n",
       "      <td>14</td>\n",
       "    </tr>\n",
       "    <tr>\n",
       "      <td>NBC New York</td>\n",
       "      <td>13</td>\n",
       "    </tr>\n",
       "    <tr>\n",
       "      <td>Fox Business</td>\n",
       "      <td>9</td>\n",
       "    </tr>\n",
       "    <tr>\n",
       "      <td>ABC News</td>\n",
       "      <td>9</td>\n",
       "    </tr>\n",
       "    <tr>\n",
       "      <td>Talks at Google</td>\n",
       "      <td>9</td>\n",
       "    </tr>\n",
       "    <tr>\n",
       "      <td>vpro documentary</td>\n",
       "      <td>9</td>\n",
       "    </tr>\n",
       "    <tr>\n",
       "      <td>ReaganFoundation</td>\n",
       "      <td>9</td>\n",
       "    </tr>\n",
       "  </tbody>\n",
       "</table>\n",
       "</div>"
      ],
      "text/plain": [
       "                             key\n",
       "channel                         \n",
       "HooverInstitution            141\n",
       "Fox News                     119\n",
       "Vox                           64\n",
       "DDPmeetings                   48\n",
       "PBS NewsHour                  47\n",
       "Yahoo Finance                 44\n",
       "TopherField                   40\n",
       "CNN                           39\n",
       "TEDx Talks                    36\n",
       "NBC News                      34\n",
       "CBS News                      29\n",
       "Institute of Public Affairs   28\n",
       "CBN News                      23\n",
       "FOX 10 Phoenix                21\n",
       "CNBC Television               20\n",
       "Stanford                      18\n",
       "Liberty University            18\n",
       "TED                           15\n",
       "NowThis News                  14\n",
       "NBC New York                  13\n",
       "Fox Business                   9\n",
       "ABC News                       9\n",
       "Talks at Google                9\n",
       "vpro documentary               9\n",
       "ReaganFoundation               9"
      ]
     },
     "execution_count": 43,
     "metadata": {},
     "output_type": "execute_result"
    }
   ],
   "source": [
    "top25_channel"
   ]
  },
  {
   "cell_type": "code",
   "execution_count": 26,
   "metadata": {},
   "outputs": [
    {
     "data": {
      "text/plain": [
       "310"
      ]
     },
     "execution_count": 26,
     "metadata": {},
     "output_type": "execute_result"
    }
   ],
   "source": [
    "top25_channel['key'].sum()"
   ]
  },
  {
   "cell_type": "code",
   "execution_count": 27,
   "metadata": {},
   "outputs": [
    {
     "data": {
      "text/plain": [
       "0.8516483516483516"
      ]
     },
     "execution_count": 27,
     "metadata": {},
     "output_type": "execute_result"
    }
   ],
   "source": [
    "#top25_channel channel weight\n",
    "top25_channel['key'].sum() / len(flat_data)"
   ]
  },
  {
   "cell_type": "code",
   "execution_count": 28,
   "metadata": {},
   "outputs": [
    {
     "data": {
      "text/plain": [
       "12.4"
      ]
     },
     "execution_count": 28,
     "metadata": {},
     "output_type": "execute_result"
    }
   ],
   "source": [
    "#top25 average - number of videos per unique video\n",
    "top25_channel['key'].sum() / 25"
   ]
  },
  {
   "cell_type": "code",
   "execution_count": 29,
   "metadata": {},
   "outputs": [],
   "source": [
    "#top25 by genre\n",
    "top25_genre = flat_data[['genre','key']].groupby(['genre']).count().sort_values(by='key',ascending=False).head(25)"
   ]
  },
  {
   "cell_type": "code",
   "execution_count": 30,
   "metadata": {},
   "outputs": [
    {
     "data": {
      "text/html": [
       "<div>\n",
       "<style scoped>\n",
       "    .dataframe tbody tr th:only-of-type {\n",
       "        vertical-align: middle;\n",
       "    }\n",
       "\n",
       "    .dataframe tbody tr th {\n",
       "        vertical-align: top;\n",
       "    }\n",
       "\n",
       "    .dataframe thead th {\n",
       "        text-align: right;\n",
       "    }\n",
       "</style>\n",
       "<table border=\"1\" class=\"dataframe\">\n",
       "  <thead>\n",
       "    <tr style=\"text-align: right;\">\n",
       "      <th></th>\n",
       "      <th>key</th>\n",
       "    </tr>\n",
       "    <tr>\n",
       "      <th>genre</th>\n",
       "      <th></th>\n",
       "    </tr>\n",
       "  </thead>\n",
       "  <tbody>\n",
       "    <tr>\n",
       "      <td>Education</td>\n",
       "      <td>147</td>\n",
       "    </tr>\n",
       "    <tr>\n",
       "      <td>People &amp; Blogs</td>\n",
       "      <td>67</td>\n",
       "    </tr>\n",
       "    <tr>\n",
       "      <td>News &amp; Politics</td>\n",
       "      <td>45</td>\n",
       "    </tr>\n",
       "    <tr>\n",
       "      <td>Entertainment</td>\n",
       "      <td>44</td>\n",
       "    </tr>\n",
       "    <tr>\n",
       "      <td>Science &amp; Technology</td>\n",
       "      <td>43</td>\n",
       "    </tr>\n",
       "    <tr>\n",
       "      <td>Nonprofits &amp; Activism</td>\n",
       "      <td>10</td>\n",
       "    </tr>\n",
       "    <tr>\n",
       "      <td>Film &amp; Animation</td>\n",
       "      <td>3</td>\n",
       "    </tr>\n",
       "    <tr>\n",
       "      <td>Comedy</td>\n",
       "      <td>2</td>\n",
       "    </tr>\n",
       "    <tr>\n",
       "      <td>Howto &amp; Style</td>\n",
       "      <td>2</td>\n",
       "    </tr>\n",
       "    <tr>\n",
       "      <td>Sports</td>\n",
       "      <td>1</td>\n",
       "    </tr>\n",
       "  </tbody>\n",
       "</table>\n",
       "</div>"
      ],
      "text/plain": [
       "                       key\n",
       "genre                     \n",
       "Education              147\n",
       "People & Blogs          67\n",
       "News & Politics         45\n",
       "Entertainment           44\n",
       "Science & Technology    43\n",
       "Nonprofits & Activism   10\n",
       "Film & Animation         3\n",
       "Comedy                   2\n",
       "Howto & Style            2\n",
       "Sports                   1"
      ]
     },
     "execution_count": 30,
     "metadata": {},
     "output_type": "execute_result"
    }
   ],
   "source": [
    "top25_genre"
   ]
  },
  {
   "cell_type": "code",
   "execution_count": 31,
   "metadata": {},
   "outputs": [
    {
     "data": {
      "text/plain": [
       "1.0"
      ]
     },
     "execution_count": 31,
     "metadata": {},
     "output_type": "execute_result"
    }
   ],
   "source": [
    "#top25_genre genre weight\n",
    "top25_genre['key'].sum() / len(flat_data)"
   ]
  },
  {
   "cell_type": "code",
   "execution_count": null,
   "metadata": {},
   "outputs": [],
   "source": []
  },
  {
   "cell_type": "code",
   "execution_count": null,
   "metadata": {},
   "outputs": [],
   "source": []
  },
  {
   "cell_type": "code",
   "execution_count": null,
   "metadata": {},
   "outputs": [],
   "source": []
  },
  {
   "cell_type": "code",
   "execution_count": null,
   "metadata": {},
   "outputs": [],
   "source": []
  }
 ],
 "metadata": {
  "kernelspec": {
   "display_name": "Python 3",
   "language": "python",
   "name": "python3"
  },
  "language_info": {
   "codemirror_mode": {
    "name": "ipython",
    "version": 3
   },
   "file_extension": ".py",
   "mimetype": "text/x-python",
   "name": "python",
   "nbconvert_exporter": "python",
   "pygments_lexer": "ipython3",
   "version": "3.7.4"
  }
 },
 "nbformat": 4,
 "nbformat_minor": 2
}
