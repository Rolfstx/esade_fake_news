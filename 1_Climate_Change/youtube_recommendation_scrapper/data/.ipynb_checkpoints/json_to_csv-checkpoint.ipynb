{
 "cells": [
  {
   "cell_type": "code",
   "execution_count": 1,
   "metadata": {},
   "outputs": [],
   "source": [
    "# convert json to csv\n",
    "import pandas as pd\n",
    "\n",
    "df = pd.read_json (r'video-infos-20200321 climate change-climate change-20200321.json')"
   ]
  },
  {
   "cell_type": "code",
   "execution_count": 2,
   "metadata": {},
   "outputs": [],
   "source": [
    "# transpose DataFrame\n",
    "# transpose column to rows\n",
    "df_trans  = df.T"
   ]
  },
  {
   "cell_type": "code",
   "execution_count": 3,
   "metadata": {},
   "outputs": [],
   "source": [
    "# drop index and create new index\n",
    "df_unique = df_trans.reset_index(drop=True)"
   ]
  },
  {
   "cell_type": "code",
   "execution_count": 4,
   "metadata": {},
   "outputs": [
    {
     "ename": "IndexError",
     "evalue": "list index out of range",
     "output_type": "error",
     "traceback": [
      "\u001b[0;31m---------------------------------------------------------------------------\u001b[0m",
      "\u001b[0;31mIndexError\u001b[0m                                Traceback (most recent call last)",
      "\u001b[0;32m<ipython-input-4-15972f6115b8>\u001b[0m in \u001b[0;36m<module>\u001b[0;34m\u001b[0m\n\u001b[1;32m      6\u001b[0m df_long = (df_unique.\n\u001b[1;32m      7\u001b[0m            \u001b[0mset_index\u001b[0m\u001b[0;34m(\u001b[0m\u001b[0mnames\u001b[0m\u001b[0;34m)\u001b[0m\u001b[0;34m.\u001b[0m\u001b[0;34m\u001b[0m\u001b[0;34m\u001b[0m\u001b[0m\n\u001b[0;32m----> 8\u001b[0;31m            \u001b[0mkey\u001b[0m\u001b[0;34m.\u001b[0m\u001b[0mapply\u001b[0m\u001b[0;34m(\u001b[0m\u001b[0mpd\u001b[0m\u001b[0;34m.\u001b[0m\u001b[0mSeries\u001b[0m\u001b[0;34m)\u001b[0m\u001b[0;34m.\u001b[0m\u001b[0mstack\u001b[0m\u001b[0;34m(\u001b[0m\u001b[0;34m)\u001b[0m\u001b[0;34m.\u001b[0m\u001b[0;34m\u001b[0m\u001b[0;34m\u001b[0m\u001b[0m\n\u001b[0m\u001b[1;32m      9\u001b[0m            reset_index(names, \n\u001b[1;32m     10\u001b[0m                        name='key')\n",
      "\u001b[0;32m~/opt/anaconda3/lib/python3.7/site-packages/pandas/core/frame.py\u001b[0m in \u001b[0;36mstack\u001b[0;34m(self, level, dropna)\u001b[0m\n\u001b[1;32m   6243\u001b[0m             \u001b[0;32mreturn\u001b[0m \u001b[0mstack_multiple\u001b[0m\u001b[0;34m(\u001b[0m\u001b[0mself\u001b[0m\u001b[0;34m,\u001b[0m \u001b[0mlevel\u001b[0m\u001b[0;34m,\u001b[0m \u001b[0mdropna\u001b[0m\u001b[0;34m=\u001b[0m\u001b[0mdropna\u001b[0m\u001b[0;34m)\u001b[0m\u001b[0;34m\u001b[0m\u001b[0;34m\u001b[0m\u001b[0m\n\u001b[1;32m   6244\u001b[0m         \u001b[0;32melse\u001b[0m\u001b[0;34m:\u001b[0m\u001b[0;34m\u001b[0m\u001b[0;34m\u001b[0m\u001b[0m\n\u001b[0;32m-> 6245\u001b[0;31m             \u001b[0;32mreturn\u001b[0m \u001b[0mstack\u001b[0m\u001b[0;34m(\u001b[0m\u001b[0mself\u001b[0m\u001b[0;34m,\u001b[0m \u001b[0mlevel\u001b[0m\u001b[0;34m,\u001b[0m \u001b[0mdropna\u001b[0m\u001b[0;34m=\u001b[0m\u001b[0mdropna\u001b[0m\u001b[0;34m)\u001b[0m\u001b[0;34m\u001b[0m\u001b[0;34m\u001b[0m\u001b[0m\n\u001b[0m\u001b[1;32m   6246\u001b[0m \u001b[0;34m\u001b[0m\u001b[0m\n\u001b[1;32m   6247\u001b[0m     \u001b[0;32mdef\u001b[0m \u001b[0mexplode\u001b[0m\u001b[0;34m(\u001b[0m\u001b[0mself\u001b[0m\u001b[0;34m,\u001b[0m \u001b[0mcolumn\u001b[0m\u001b[0;34m:\u001b[0m \u001b[0mUnion\u001b[0m\u001b[0;34m[\u001b[0m\u001b[0mstr\u001b[0m\u001b[0;34m,\u001b[0m \u001b[0mTuple\u001b[0m\u001b[0;34m]\u001b[0m\u001b[0;34m)\u001b[0m \u001b[0;34m->\u001b[0m \u001b[0;34m\"DataFrame\"\u001b[0m\u001b[0;34m:\u001b[0m\u001b[0;34m\u001b[0m\u001b[0;34m\u001b[0m\u001b[0m\n",
      "\u001b[0;32m~/opt/anaconda3/lib/python3.7/site-packages/pandas/core/reshape/reshape.py\u001b[0m in \u001b[0;36mstack\u001b[0;34m(frame, level, dropna)\u001b[0m\n\u001b[1;32m    545\u001b[0m         \u001b[0;31m# we concatenate instead.\u001b[0m\u001b[0;34m\u001b[0m\u001b[0;34m\u001b[0m\u001b[0;34m\u001b[0m\u001b[0m\n\u001b[1;32m    546\u001b[0m         \u001b[0mdtypes\u001b[0m \u001b[0;34m=\u001b[0m \u001b[0mlist\u001b[0m\u001b[0;34m(\u001b[0m\u001b[0mframe\u001b[0m\u001b[0;34m.\u001b[0m\u001b[0mdtypes\u001b[0m\u001b[0;34m.\u001b[0m\u001b[0mvalues\u001b[0m\u001b[0;34m)\u001b[0m\u001b[0;34m\u001b[0m\u001b[0;34m\u001b[0m\u001b[0m\n\u001b[0;32m--> 547\u001b[0;31m         \u001b[0mdtype\u001b[0m \u001b[0;34m=\u001b[0m \u001b[0mdtypes\u001b[0m\u001b[0;34m[\u001b[0m\u001b[0;36m0\u001b[0m\u001b[0;34m]\u001b[0m\u001b[0;34m\u001b[0m\u001b[0;34m\u001b[0m\u001b[0m\n\u001b[0m\u001b[1;32m    548\u001b[0m \u001b[0;34m\u001b[0m\u001b[0m\n\u001b[1;32m    549\u001b[0m         \u001b[0;32mif\u001b[0m \u001b[0mis_extension_array_dtype\u001b[0m\u001b[0;34m(\u001b[0m\u001b[0mdtype\u001b[0m\u001b[0;34m)\u001b[0m\u001b[0;34m:\u001b[0m\u001b[0;34m\u001b[0m\u001b[0;34m\u001b[0m\u001b[0m\n",
      "\u001b[0;31mIndexError\u001b[0m: list index out of range"
     ]
    }
   ],
   "source": [
    "#expand keys into separate rows\n",
    "#cannot use recommendations column since it is a list\n",
    "#gives error unhashable type\n",
    "names = ['pubdate', 'views', 'dislikes', 'likes', 'duration', 'id', 'mult', 'title', 'nb_recommendations', 'depth', 'channel']\n",
    "\n",
    "df_long = (df_unique.\n",
    "           set_index(names).\n",
    "           key.apply(pd.Series).stack().\n",
    "           reset_index(names, \n",
    "                       name='key')\n",
    "          )"
   ]
  },
  {
   "cell_type": "code",
   "execution_count": 5,
   "metadata": {},
   "outputs": [
    {
     "ename": "NameError",
     "evalue": "name 'df_long' is not defined",
     "output_type": "error",
     "traceback": [
      "\u001b[0;31m---------------------------------------------------------------------------\u001b[0m",
      "\u001b[0;31mNameError\u001b[0m                                 Traceback (most recent call last)",
      "\u001b[0;32m<ipython-input-5-a14f46d349fb>\u001b[0m in \u001b[0;36m<module>\u001b[0;34m\u001b[0m\n\u001b[0;32m----> 1\u001b[0;31m \u001b[0mdf_long\u001b[0m\u001b[0;34m.\u001b[0m\u001b[0msort_values\u001b[0m\u001b[0;34m(\u001b[0m\u001b[0mby\u001b[0m\u001b[0;34m=\u001b[0m\u001b[0;34m'key'\u001b[0m\u001b[0;34m,\u001b[0m \u001b[0minplace\u001b[0m\u001b[0;34m=\u001b[0m\u001b[0;32mTrue\u001b[0m\u001b[0;34m)\u001b[0m\u001b[0;34m\u001b[0m\u001b[0;34m\u001b[0m\u001b[0m\n\u001b[0m",
      "\u001b[0;31mNameError\u001b[0m: name 'df_long' is not defined"
     ]
    }
   ],
   "source": [
    "df_long.sort_values(by='key', inplace=True)"
   ]
  },
  {
   "cell_type": "code",
   "execution_count": 6,
   "metadata": {
    "scrolled": false
   },
   "outputs": [
    {
     "data": {
      "text/html": [
       "<div>\n",
       "<style scoped>\n",
       "    .dataframe tbody tr th:only-of-type {\n",
       "        vertical-align: middle;\n",
       "    }\n",
       "\n",
       "    .dataframe tbody tr th {\n",
       "        vertical-align: top;\n",
       "    }\n",
       "\n",
       "    .dataframe thead th {\n",
       "        text-align: right;\n",
       "    }\n",
       "</style>\n",
       "<table border=\"1\" class=\"dataframe\">\n",
       "  <thead>\n",
       "    <tr style=\"text-align: right;\">\n",
       "      <th></th>\n",
       "      <th>pubdate</th>\n",
       "      <th>views</th>\n",
       "      <th>dislikes</th>\n",
       "      <th>likes</th>\n",
       "      <th>duration</th>\n",
       "      <th>id</th>\n",
       "      <th>mult</th>\n",
       "      <th>title</th>\n",
       "      <th>nb_recommendations</th>\n",
       "      <th>depth</th>\n",
       "      <th>channel</th>\n",
       "      <th>key</th>\n",
       "    </tr>\n",
       "  </thead>\n",
       "  <tbody>\n",
       "    <tr>\n",
       "      <th>0</th>\n",
       "      <td>2020-04-23</td>\n",
       "      <td>195782</td>\n",
       "      <td>1129</td>\n",
       "      <td>2499</td>\n",
       "      <td>448</td>\n",
       "      <td>f9AuFaqOgS0</td>\n",
       "      <td>0.042502</td>\n",
       "      <td>Biden Leads Trump In Two Key Battleground Stat...</td>\n",
       "      <td>2</td>\n",
       "      <td>7</td>\n",
       "      <td>MSNBC</td>\n",
       "      <td>1</td>\n",
       "    </tr>\n",
       "    <tr>\n",
       "      <th>0</th>\n",
       "      <td>2020-04-24</td>\n",
       "      <td>340788</td>\n",
       "      <td>397</td>\n",
       "      <td>5479</td>\n",
       "      <td>903</td>\n",
       "      <td>0WuwYdSdjlw</td>\n",
       "      <td>26.946202</td>\n",
       "      <td>Breaking Down Trump's Thursday Press Briefing ...</td>\n",
       "      <td>1268</td>\n",
       "      <td>1</td>\n",
       "      <td>MSNBC</td>\n",
       "      <td>1a</td>\n",
       "    </tr>\n",
       "    <tr>\n",
       "      <th>0</th>\n",
       "      <td>2020-04-24</td>\n",
       "      <td>805526</td>\n",
       "      <td>1791</td>\n",
       "      <td>13245</td>\n",
       "      <td>710</td>\n",
       "      <td>sqI5_jH-AbY</td>\n",
       "      <td>31.196392</td>\n",
       "      <td>Trump Suggests Disinfectant To Kill Virus Insi...</td>\n",
       "      <td>1468</td>\n",
       "      <td>1</td>\n",
       "      <td>MSNBC</td>\n",
       "      <td>1aa</td>\n",
       "    </tr>\n",
       "    <tr>\n",
       "      <th>1</th>\n",
       "      <td>2020-04-24</td>\n",
       "      <td>340788</td>\n",
       "      <td>397</td>\n",
       "      <td>5479</td>\n",
       "      <td>903</td>\n",
       "      <td>0WuwYdSdjlw</td>\n",
       "      <td>26.946202</td>\n",
       "      <td>Breaking Down Trump's Thursday Press Briefing ...</td>\n",
       "      <td>1268</td>\n",
       "      <td>1</td>\n",
       "      <td>MSNBC</td>\n",
       "      <td>1aaa</td>\n",
       "    </tr>\n",
       "    <tr>\n",
       "      <th>1</th>\n",
       "      <td>2020-04-24</td>\n",
       "      <td>805526</td>\n",
       "      <td>1791</td>\n",
       "      <td>13245</td>\n",
       "      <td>710</td>\n",
       "      <td>sqI5_jH-AbY</td>\n",
       "      <td>31.196392</td>\n",
       "      <td>Trump Suggests Disinfectant To Kill Virus Insi...</td>\n",
       "      <td>1468</td>\n",
       "      <td>1</td>\n",
       "      <td>MSNBC</td>\n",
       "      <td>1aaaa</td>\n",
       "    </tr>\n",
       "    <tr>\n",
       "      <th>...</th>\n",
       "      <td>...</td>\n",
       "      <td>...</td>\n",
       "      <td>...</td>\n",
       "      <td>...</td>\n",
       "      <td>...</td>\n",
       "      <td>...</td>\n",
       "      <td>...</td>\n",
       "      <td>...</td>\n",
       "      <td>...</td>\n",
       "      <td>...</td>\n",
       "      <td>...</td>\n",
       "      <td>...</td>\n",
       "    </tr>\n",
       "    <tr>\n",
       "      <th>0</th>\n",
       "      <td>2020-03-31</td>\n",
       "      <td>3400349</td>\n",
       "      <td>1214</td>\n",
       "      <td>71634</td>\n",
       "      <td>658</td>\n",
       "      <td>0vgOzy0Mfsw</td>\n",
       "      <td>7.374079</td>\n",
       "      <td>John Oliver: How I'm Hosting \"Last Week Tonigh...</td>\n",
       "      <td>347</td>\n",
       "      <td>1</td>\n",
       "      <td>The Late Show with Stephen Colbert</td>\n",
       "      <td>1aaaced</td>\n",
       "    </tr>\n",
       "    <tr>\n",
       "      <th>0</th>\n",
       "      <td>2016-11-07</td>\n",
       "      <td>21974654</td>\n",
       "      <td>10802</td>\n",
       "      <td>246412</td>\n",
       "      <td>1918</td>\n",
       "      <td>s6MwGeOm8iI</td>\n",
       "      <td>8.712889</td>\n",
       "      <td>Multilevel Marketing: Last Week Tonight with J...</td>\n",
       "      <td>410</td>\n",
       "      <td>1</td>\n",
       "      <td>LastWeekTonight</td>\n",
       "      <td>1aaacee</td>\n",
       "    </tr>\n",
       "    <tr>\n",
       "      <th>2</th>\n",
       "      <td>2020-04-22</td>\n",
       "      <td>546505</td>\n",
       "      <td>463</td>\n",
       "      <td>6745</td>\n",
       "      <td>821</td>\n",
       "      <td>JBCicP17ZFY</td>\n",
       "      <td>17.404526</td>\n",
       "      <td>John Kerry: Coronavirus May Be America's 'Mome...</td>\n",
       "      <td>819</td>\n",
       "      <td>1</td>\n",
       "      <td>MSNBC</td>\n",
       "      <td>1aaad</td>\n",
       "    </tr>\n",
       "    <tr>\n",
       "      <th>0</th>\n",
       "      <td>2020-04-22</td>\n",
       "      <td>878499</td>\n",
       "      <td>641</td>\n",
       "      <td>8559</td>\n",
       "      <td>1025</td>\n",
       "      <td>fXD-yE2asCY</td>\n",
       "      <td>5.333988</td>\n",
       "      <td>Trump Hurting Himself With Key Groups Ahead Of...</td>\n",
       "      <td>251</td>\n",
       "      <td>1</td>\n",
       "      <td>MSNBC</td>\n",
       "      <td>1aaada</td>\n",
       "    </tr>\n",
       "    <tr>\n",
       "      <th>7</th>\n",
       "      <td>2020-04-24</td>\n",
       "      <td>805526</td>\n",
       "      <td>1791</td>\n",
       "      <td>13245</td>\n",
       "      <td>710</td>\n",
       "      <td>sqI5_jH-AbY</td>\n",
       "      <td>31.196392</td>\n",
       "      <td>Trump Suggests Disinfectant To Kill Virus Insi...</td>\n",
       "      <td>1468</td>\n",
       "      <td>1</td>\n",
       "      <td>MSNBC</td>\n",
       "      <td>1aaadaa</td>\n",
       "    </tr>\n",
       "  </tbody>\n",
       "</table>\n",
       "<p>100 rows × 12 columns</p>\n",
       "</div>"
      ],
      "text/plain": [
       "       pubdate     views  dislikes   likes  duration           id       mult  \\\n",
       "0   2020-04-23    195782      1129    2499       448  f9AuFaqOgS0   0.042502   \n",
       "0   2020-04-24    340788       397    5479       903  0WuwYdSdjlw  26.946202   \n",
       "0   2020-04-24    805526      1791   13245       710  sqI5_jH-AbY  31.196392   \n",
       "1   2020-04-24    340788       397    5479       903  0WuwYdSdjlw  26.946202   \n",
       "1   2020-04-24    805526      1791   13245       710  sqI5_jH-AbY  31.196392   \n",
       "..         ...       ...       ...     ...       ...          ...        ...   \n",
       "0   2020-03-31   3400349      1214   71634       658  0vgOzy0Mfsw   7.374079   \n",
       "0   2016-11-07  21974654     10802  246412      1918  s6MwGeOm8iI   8.712889   \n",
       "2   2020-04-22    546505       463    6745       821  JBCicP17ZFY  17.404526   \n",
       "0   2020-04-22    878499       641    8559      1025  fXD-yE2asCY   5.333988   \n",
       "7   2020-04-24    805526      1791   13245       710  sqI5_jH-AbY  31.196392   \n",
       "\n",
       "                                                title  nb_recommendations  \\\n",
       "0   Biden Leads Trump In Two Key Battleground Stat...                   2   \n",
       "0   Breaking Down Trump's Thursday Press Briefing ...                1268   \n",
       "0   Trump Suggests Disinfectant To Kill Virus Insi...                1468   \n",
       "1   Breaking Down Trump's Thursday Press Briefing ...                1268   \n",
       "1   Trump Suggests Disinfectant To Kill Virus Insi...                1468   \n",
       "..                                                ...                 ...   \n",
       "0   John Oliver: How I'm Hosting \"Last Week Tonigh...                 347   \n",
       "0   Multilevel Marketing: Last Week Tonight with J...                 410   \n",
       "2   John Kerry: Coronavirus May Be America's 'Mome...                 819   \n",
       "0   Trump Hurting Himself With Key Groups Ahead Of...                 251   \n",
       "7   Trump Suggests Disinfectant To Kill Virus Insi...                1468   \n",
       "\n",
       "    depth                             channel      key  \n",
       "0       7                               MSNBC        1  \n",
       "0       1                               MSNBC       1a  \n",
       "0       1                               MSNBC      1aa  \n",
       "1       1                               MSNBC     1aaa  \n",
       "1       1                               MSNBC    1aaaa  \n",
       "..    ...                                 ...      ...  \n",
       "0       1  The Late Show with Stephen Colbert  1aaaced  \n",
       "0       1                     LastWeekTonight  1aaacee  \n",
       "2       1                               MSNBC    1aaad  \n",
       "0       1                               MSNBC   1aaada  \n",
       "7       1                               MSNBC  1aaadaa  \n",
       "\n",
       "[100 rows x 12 columns]"
      ]
     },
     "execution_count": 6,
     "metadata": {},
     "output_type": "execute_result"
    }
   ],
   "source": [
    "df_long.head(100)"
   ]
  },
  {
   "cell_type": "code",
   "execution_count": 12,
   "metadata": {},
   "outputs": [
    {
     "data": {
      "text/plain": [
       "0    LV8wWhjTKRU\n",
       "1    oHLychWng4c\n",
       "2    phsU1vVHOQI\n",
       "3    2X1Tgmsv9Ao\n",
       "4    MpV8kPJTNMU\n",
       "Name: id, dtype: object"
      ]
     },
     "execution_count": 12,
     "metadata": {},
     "output_type": "execute_result"
    }
   ],
   "source": [
    "unique_ids = pd.DataFrame()\n",
    "unique_ids = df_unique['id']\n",
    "unique_ids.head()"
   ]
  },
  {
   "cell_type": "code",
   "execution_count": 14,
   "metadata": {},
   "outputs": [],
   "source": [
    "# export Data.Frame\n",
    "df_unique.to_csv(r'./csv/biden_20200427_unique.csv', \n",
    "                      index = None, header=True)"
   ]
  },
  {
   "cell_type": "code",
   "execution_count": 13,
   "metadata": {},
   "outputs": [],
   "source": [
    "# export Data.Frame\n",
    "unique_ids.to_csv(r'./csv/biden_20200427_unique_ids.csv', \n",
    "                      index = None, header=True)"
   ]
  },
  {
   "cell_type": "code",
   "execution_count": 15,
   "metadata": {},
   "outputs": [],
   "source": [
    "# export Data.Frame\n",
    "df_long.to_csv(r'./csv/biden_20200427_all.csv', \n",
    "                      index = None, header=True)"
   ]
  },
  {
   "cell_type": "code",
   "execution_count": 7,
   "metadata": {},
   "outputs": [
    {
     "data": {
      "text/plain": [
       "1569"
      ]
     },
     "execution_count": 7,
     "metadata": {},
     "output_type": "execute_result"
    }
   ],
   "source": [
    "#unique rows\n",
    "len(df_unique)"
   ]
  },
  {
   "cell_type": "code",
   "execution_count": 8,
   "metadata": {},
   "outputs": [
    {
     "data": {
      "text/plain": [
       "16578"
      ]
     },
     "execution_count": 8,
     "metadata": {},
     "output_type": "execute_result"
    }
   ],
   "source": [
    "#number of rows in total dataset\n",
    "len(df_long)"
   ]
  },
  {
   "cell_type": "code",
   "execution_count": 8,
   "metadata": {},
   "outputs": [
    {
     "data": {
      "text/plain": [
       "619"
      ]
     },
     "execution_count": 8,
     "metadata": {},
     "output_type": "execute_result"
    }
   ],
   "source": [
    "#unique channels\n",
    "unique_channels = df_unique.channel.unique()\n",
    "len(unique_channels)"
   ]
  },
  {
   "cell_type": "code",
   "execution_count": 9,
   "metadata": {},
   "outputs": [
    {
     "data": {
      "text/plain": [
       "<matplotlib.axes._subplots.AxesSubplot at 0x117145278>"
      ]
     },
     "execution_count": 9,
     "metadata": {},
     "output_type": "execute_result"
    },
    {
     "data": {
      "image/png": "[encoded data removed]",
      "text/plain": [
       "<Figure size 432x288 with 1 Axes>"
      ]
     },
     "metadata": {
      "needs_background": "light"
     },
     "output_type": "display_data"
    }
   ],
   "source": [
    "#histogram of channels\n",
    "df_unique['channel'].value_counts().hist()"
   ]
  },
  {
   "cell_type": "code",
   "execution_count": 10,
   "metadata": {
    "scrolled": true
   },
   "outputs": [
    {
     "data": {
      "text/plain": [
       "Fox News                                             84\n",
       "MSNBC                                                61\n",
       "                                                     55\n",
       "LastWeekTonight                                      53\n",
       "PowerfulJRE                                          33\n",
       "                                                     ..\n",
       "klowny1969                                            1\n",
       "University of Kentucky College of Arts & Sciences     1\n",
       "KVIEvideo                                             1\n",
       "bCp - Poker Highlights                                1\n",
       "tdkt160                                               1\n",
       "Name: channel, Length: 619, dtype: int64"
      ]
     },
     "execution_count": 10,
     "metadata": {},
     "output_type": "execute_result"
    }
   ],
   "source": [
    "#list of # channels\n",
    "df_unique['channel'].value_counts()"
   ]
  },
  {
   "cell_type": "code",
   "execution_count": 13,
   "metadata": {},
   "outputs": [
    {
     "data": {
      "text/plain": [
       "FloTrack                                             10\n",
       "CBS News                                             10\n",
       "World Archery                                        10\n",
       "Vincent Racaniello                                    9\n",
       "NBC News                                              9\n",
       "                                                     ..\n",
       "klowny1969                                            1\n",
       "University of Kentucky College of Arts & Sciences     1\n",
       "KVIEvideo                                             1\n",
       "bCp - Poker Highlights                                1\n",
       "tdkt160                                               1\n",
       "Name: channel, Length: 599, dtype: int64"
      ]
     },
     "execution_count": 13,
     "metadata": {},
     "output_type": "execute_result"
    }
   ],
   "source": [
    "#number of channels with less than 10 appearances\n",
    "channels = df_unique['channel'].value_counts()\n",
    "channels.loc[channels < 11]"
   ]
  },
  {
   "cell_type": "code",
   "execution_count": 14,
   "metadata": {},
   "outputs": [],
   "source": [
    "channels_pc = round(channels/ sum(channels) * 100, 2) "
   ]
  },
  {
   "cell_type": "code",
   "execution_count": 15,
   "metadata": {},
   "outputs": [
    {
     "data": {
      "text/plain": [
       "Fox News                                             5.35\n",
       "MSNBC                                                3.89\n",
       "                                                     3.51\n",
       "LastWeekTonight                                      3.38\n",
       "PowerfulJRE                                          2.10\n",
       "                                                     ... \n",
       "klowny1969                                           0.06\n",
       "University of Kentucky College of Arts & Sciences    0.06\n",
       "KVIEvideo                                            0.06\n",
       "bCp - Poker Highlights                               0.06\n",
       "tdkt160                                              0.06\n",
       "Name: channel, Length: 619, dtype: float64"
      ]
     },
     "execution_count": 15,
     "metadata": {},
     "output_type": "execute_result"
    }
   ],
   "source": [
    "channels_pc"
   ]
  },
  {
   "cell_type": "code",
   "execution_count": 151,
   "metadata": {},
   "outputs": [
    {
     "data": {
      "text/plain": [
       "22.830000000000005"
      ]
     },
     "execution_count": 151,
     "metadata": {},
     "output_type": "execute_result"
    }
   ],
   "source": [
    "channels_pc.head(11).sum()"
   ]
  },
  {
   "cell_type": "code",
   "execution_count": 86,
   "metadata": {},
   "outputs": [
    {
     "data": {
      "text/plain": [
       "<matplotlib.axes._subplots.AxesSubplot at 0x110ff98d0>"
      ]
     },
     "execution_count": 86,
     "metadata": {},
     "output_type": "execute_result"
    },
    {
     "data": {
      "image/png": "[encoded data removed]",
      "text/plain": [
       "<Figure size 432x288 with 1 Axes>"
      ]
     },
     "metadata": {
      "needs_background": "light"
     },
     "output_type": "display_data"
    }
   ],
   "source": [
    "#histogram of title\n",
    "df_long['title'].value_counts().hist()"
   ]
  },
  {
   "cell_type": "code",
   "execution_count": 16,
   "metadata": {},
   "outputs": [
    {
     "data": {
      "text/plain": [
       "                                                                                                      730\n",
       "Mitch McConnell's \"Screw The States\" Plan Riles Lawmakers From Both Parties                           553\n",
       "Trump Suggests Disinfectant To Kill Virus Inside The Body | Morning Joe | MSNBC                       392\n",
       "Breaking Down Trump's Thursday Press Briefing | Morning Joe | MSNBC                                   359\n",
       "Jimmy Kimmel’s Quarantine Monologue – Jimmy's Daughter Does His Makeup & Trump Contradicts Experts    335\n",
       "                                                                                                     ... \n",
       "Thomas Sowell on the second edition of Intellectuals and Society                                        1\n",
       "TWiV 602: Coronavirus immunology with Stanley Perlman                                                   1\n",
       "Biden Leads Trump In Two Key Battleground States: Poll | Morning Joe | MSNBC                            1\n",
       "How Dr. Anthony Fauci Became America's Doctor | NowThis                                                 1\n",
       "Russell Brand & Noel Fielding Mess Sh*t Up | Big Fat Quiz | Dead Parrot                                 1\n",
       "Name: title, Length: 1514, dtype: int64"
      ]
     },
     "execution_count": 16,
     "metadata": {},
     "output_type": "execute_result"
    }
   ],
   "source": [
    "#list of # titles\n",
    "df_long['title'].value_counts()"
   ]
  },
  {
   "cell_type": "code",
   "execution_count": 88,
   "metadata": {},
   "outputs": [
    {
     "data": {
      "text/plain": [
       "'2020-04-23'"
      ]
     },
     "execution_count": 88,
     "metadata": {},
     "output_type": "execute_result"
    }
   ],
   "source": [
    "#max pulication date\n",
    "max(df_long.pubdate)"
   ]
  },
  {
   "cell_type": "code",
   "execution_count": 89,
   "metadata": {},
   "outputs": [
    {
     "data": {
      "text/plain": [
       "''"
      ]
     },
     "execution_count": 89,
     "metadata": {},
     "output_type": "execute_result"
    }
   ],
   "source": [
    "#min pulication date\n",
    "min(df_long.pubdate)"
   ]
  },
  {
   "cell_type": "code",
   "execution_count": 97,
   "metadata": {},
   "outputs": [
    {
     "data": {
      "text/plain": [
       "channel\n",
       "NBC News                 47942601892\n",
       "CBS News                 29245371834\n",
       "Global News              28341396650\n",
       "LastWeekTonight          22938953054\n",
       "CBC News                 10200299105\n",
       "                            ...     \n",
       "YouTube Originals                 -1\n",
       "Simon Sinek                       -1\n",
       "USArmyWarCollege                  -2\n",
       "euronews (in English)             -5\n",
       "                               -2780\n",
       "Name: views, Length: 1188, dtype: int64"
      ]
     },
     "execution_count": 97,
     "metadata": {},
     "output_type": "execute_result"
    }
   ],
   "source": [
    "#total views per channel\n",
    "df_long.groupby(by='channel')['views'].sum().sort_values(ascending=False)"
   ]
  },
  {
   "cell_type": "code",
   "execution_count": 102,
   "metadata": {},
   "outputs": [
    {
     "data": {
      "text/plain": [
       "channel\n",
       "m2e1iriko               69758357.0\n",
       "Steve TV Show           60618176.0\n",
       "Good Morning America    51950042.0\n",
       "Bodybuilding.com        49463928.0\n",
       "Blaiyan                 44192198.0\n",
       "                           ...    \n",
       "Roland S. Martin              -1.0\n",
       "Simon Sinek                   -1.0\n",
       "TIME                          -1.0\n",
       "Al Jazeera English            -1.0\n",
       "                              -1.0\n",
       "Name: views, Length: 1188, dtype: float64"
      ]
     },
     "execution_count": 102,
     "metadata": {},
     "output_type": "execute_result"
    }
   ],
   "source": [
    "#average views per channel\n",
    "df_long.groupby(by='channel')['views'].median().sort_values(ascending=False)"
   ]
  },
  {
   "cell_type": "code",
   "execution_count": 110,
   "metadata": {},
   "outputs": [
    {
     "data": {
      "text/plain": [
       "590644.0"
      ]
     },
     "execution_count": 110,
     "metadata": {},
     "output_type": "execute_result"
    }
   ],
   "source": [
    "#average number of views\n",
    "df_long['views'].median()"
   ]
  },
  {
   "cell_type": "code",
   "execution_count": 105,
   "metadata": {},
   "outputs": [
    {
     "data": {
      "text/plain": [
       "2020-04-23    24985\n",
       "2020-04-22     9135\n",
       "2016-10-09     4853\n",
       "2016-10-19     3658\n",
       "               2780\n",
       "              ...  \n",
       "2017-02-04        1\n",
       "2017-09-13        1\n",
       "2016-10-28        1\n",
       "2013-11-02        1\n",
       "2019-08-09        1\n",
       "Name: pubdate, Length: 1784, dtype: int64"
      ]
     },
     "execution_count": 105,
     "metadata": {},
     "output_type": "execute_result"
    }
   ],
   "source": [
    "df_long['pubdate'].value_counts()"
   ]
  },
  {
   "cell_type": "code",
   "execution_count": 157,
   "metadata": {},
   "outputs": [
    {
     "name": "stdout",
     "output_type": "stream",
     "text": [
      "video-infos-20200315_Joe_Biden-Joe Biden-20200315.csv\r\n",
      "video-infos-20200319_Joe_Biden-Joe Biden-20200319.csv\r\n"
     ]
    }
   ],
   "source": [
    "!ls"
   ]
  },
  {
   "cell_type": "code",
   "execution_count": 156,
   "metadata": {},
   "outputs": [
    {
     "name": "stdout",
     "output_type": "stream",
     "text": [
      "/Users/Rolf/Documents/GitHub/esade_fake_news/4_Politics/youtube_recommendation_scrapper/data/csv/_old\n"
     ]
    }
   ],
   "source": [
    "%cd _old"
   ]
  },
  {
   "cell_type": "code",
   "execution_count": 158,
   "metadata": {},
   "outputs": [],
   "source": [
    "d = pd.read_csv(\"video-infos-20200315_Joe_Biden-Joe Biden-20200315.csv\")"
   ]
  },
  {
   "cell_type": "code",
   "execution_count": 161,
   "metadata": {},
   "outputs": [],
   "source": [
    "d1 = d[\"id\"]"
   ]
  },
  {
   "cell_type": "code",
   "execution_count": 163,
   "metadata": {},
   "outputs": [],
   "source": [
    "d1.to_csv(r'unique_id.csv', \n",
    "                      index = None, header=True)"
   ]
  },
  {
   "cell_type": "code",
   "execution_count": null,
   "metadata": {},
   "outputs": [],
   "source": []
  }
 ],
 "metadata": {
  "kernelspec": {
   "display_name": "Python 3",
   "language": "python",
   "name": "python3"
  },
  "language_info": {
   "codemirror_mode": {
    "name": "ipython",
    "version": 3
   },
   "file_extension": ".py",
   "mimetype": "text/x-python",
   "name": "python",
   "nbconvert_exporter": "python",
   "pygments_lexer": "ipython3",
   "version": "3.7.4"
  }
 },
 "nbformat": 4,
 "nbformat_minor": 2
}
